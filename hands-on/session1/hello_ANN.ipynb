{
  "nbformat": 4,
  "nbformat_minor": 0,
  "metadata": {
    "anaconda-cloud": {},
    "celltoolbar": "Slideshow",
    "kernelspec": {
      "name": "python3",
      "display_name": "Python 3"
    },
    "colab": {
      "name": "hello_ANN.ipynb",
      "provenance": [],
      "include_colab_link": true
    }
  },
  "cells": [
    {
      "cell_type": "markdown",
      "metadata": {
        "id": "view-in-github",
        "colab_type": "text"
      },
      "source": [
        "<a href=\"https://colab.research.google.com/github/mhuertascompany/Saas-Fee/blob/main/hands-on/session1/hello_ANN.ipynb\" target=\"_parent\"><img src=\"https://colab.research.google.com/assets/colab-badge.svg\" alt=\"Open In Colab\"/></a>"
      ]
    },
    {
      "cell_type": "code",
      "metadata": {
        "colab": {
          "base_uri": "https://localhost:8080/"
        },
        "id": "NHrlbIjlVE7G",
        "outputId": "6ea6bc32-ea34-4383-fd7e-a073e8f78ef4"
      },
      "source": [
        "import numpy as np\n",
        "import pandas as pd\n",
        "import matplotlib\n",
        "\n",
        "from matplotlib import patches\n",
        "from matplotlib import lines\n",
        "import matplotlib.pyplot as plt\n",
        "import pickle\n",
        "from astropy.wcs import WCS \n",
        "from astropy.coordinates import SkyCoord\n",
        "from astropy.nddata.utils import Cutout2D\n",
        "import scipy.stats as stats\n",
        "import sys\n",
        "from scipy.ndimage import uniform_filter\n",
        "from astropy.table import Table\n",
        "from astropy.cosmology import Planck13\n",
        "from keras.preprocessing.image import ImageDataGenerator\n",
        "from keras.models import Sequential\n",
        "from keras.layers.core import Dense, Dropout, Activation, Flatten\n",
        "from keras.layers.normalization import  BatchNormalization\n",
        "from keras.layers.convolutional import Convolution2D, MaxPooling2D\n",
        "\n",
        "\n",
        "from keras.callbacks import EarlyStopping\n",
        "from keras.callbacks import ModelCheckpoint\n",
        "from keras.callbacks import TensorBoard\n",
        "import tensorflow.compat.v2 as tf\n",
        "tf.enable_v2_behavior()\n",
        "import tensorflow_probability as tfp\n",
        "\n",
        "from sklearn.metrics import roc_curve, precision_recall_curve, accuracy_score,auc\n",
        "\n",
        "%pylab inline"
      ],
      "execution_count": null,
      "outputs": [
        {
          "output_type": "stream",
          "text": [
            "Populating the interactive namespace from numpy and matplotlib\n"
          ],
          "name": "stdout"
        }
      ]
    },
    {
      "cell_type": "markdown",
      "metadata": {
        "id": "Dgpv6bg8VE7M"
      },
      "source": [
        "# Intro ML Cycle1"
      ]
    },
    {
      "cell_type": "markdown",
      "metadata": {
        "id": "gSzeejoyVE7N"
      },
      "source": [
        "# Acces this notebook @ https://github.com/mhuertascompany/Saas-Fee/tree/master/session1/hello_ANN.ipynb\n",
        "\n",
        "- Notebook: intro_ML.ipynb\n",
        "\n",
        "- Press \"Open in Colab\" button\n",
        "\n",
        "- Open in PlayGround Mode\n",
        "\n",
        "- Connect button (top right)"
      ]
    },
    {
      "cell_type": "markdown",
      "metadata": {
        "id": "9PsvDVEjVE7N"
      },
      "source": [
        "# Let's first generate some data..."
      ]
    },
    {
      "cell_type": "code",
      "metadata": {
        "id": "L-cxKTr8VE7N",
        "outputId": "60bb2332-9012-48c2-feb4-9ca7337ad451"
      },
      "source": [
        "x = np.random.uniform(-1,1,100)\n",
        "y = 0.1*x+np.random.normal(0,0.025,100)\n",
        "plt.scatter(x,y,label='data')\n",
        "plt.legend()\n",
        "plt.show()"
      ],
      "execution_count": null,
      "outputs": [
        {
          "output_type": "display_data",
          "data": {
            "image/png": "[encoded data removed]",
            "text/plain": [
              "<Figure size 432x288 with 1 Axes>"
            ]
          },
          "metadata": {
            "tags": []
          }
        }
      ]
    },
    {
      "cell_type": "markdown",
      "metadata": {
        "id": "2Lxez5J_VE7O"
      },
      "source": [
        "# The normal way to deal with this, is through linear regression"
      ]
    },
    {
      "cell_type": "code",
      "metadata": {
        "id": "VrBPV302VE7O",
        "outputId": "4453d12f-6efc-4dbd-94a8-486ef2232d61"
      },
      "source": [
        "res = np.polyfit(x,y,1)\n",
        "print(res)\n",
        "plt.scatter(x,y,label='data')\n",
        "plt.plot(np.linspace(-1,1),np.linspace(-1,1)*res[0]+res[1],color='green',label='polyfit')\n",
        "plt.legend()\n",
        "plt.show()"
      ],
      "execution_count": null,
      "outputs": [
        {
          "output_type": "stream",
          "text": [
            "[ 0.1036206  -0.00023876]\n"
          ],
          "name": "stdout"
        },
        {
          "output_type": "display_data",
          "data": {
            "image/png": "[encoded data removed]",
            "text/plain": [
              "<Figure size 432x288 with 1 Axes>"
            ]
          },
          "metadata": {
            "tags": []
          }
        }
      ]
    },
    {
      "cell_type": "markdown",
      "metadata": {
        "id": "GiSadI8eVE7O"
      },
      "source": [
        "# Now, let's try to write the linear regression in a different way (more complicated way)"
      ]
    },
    {
      "cell_type": "code",
      "metadata": {
        "collapsed": true,
        "id": "YleKEGp-VE7P"
      },
      "source": [
        "tfd = tfp.distributions\n",
        "tfpl = tfp.layers\n",
        "tfk = tf.keras\n",
        "tfkl = tf.keras.layers\n",
        "\n",
        "ann = tfk.Sequential([\n",
        "tf.keras.layers.Flatten(input_shape=(1,1)),      \n",
        "tfkl.Dense(1, activation=None)])\n"
      ],
      "execution_count": null,
      "outputs": []
    },
    {
      "cell_type": "markdown",
      "metadata": {
        "id": "ESychuhYVE7P"
      },
      "source": [
        "The Dense command here, onnly says that the input is multiplied by a parameter $w$. We are effectively writing a simple model for our data: $y = w.a+b$, where $w$ is unknown.\n",
        "![alt](https://drive.google.com/uc?id=1Rt2bNPCxaHXdjzmVS7TCw_u_Ur-WIqlW)"
      ]
    },
    {
      "cell_type": "markdown",
      "metadata": {
        "id": "UmG2cEfWVE7P"
      },
      "source": [
        "We can visualize the model we just created."
      ]
    },
    {
      "cell_type": "code",
      "metadata": {
        "id": "mSlglnSvXX1t"
      },
      "source": [
        ""
      ],
      "execution_count": null,
      "outputs": []
    },
    {
      "cell_type": "code",
      "metadata": {
        "id": "yzc-PSxWVE7P",
        "outputId": "65a2f341-ab6f-4de8-fa52-fa2afba8079c"
      },
      "source": [
        "ann.summary()"
      ],
      "execution_count": null,
      "outputs": [
        {
          "output_type": "stream",
          "text": [
            "Model: \"sequential_21\"\n",
            "_________________________________________________________________\n",
            "Layer (type)                 Output Shape              Param #   \n",
            "=================================================================\n",
            "flatten_26 (Flatten)         (None, 1)                 0         \n",
            "_________________________________________________________________\n",
            "dense_48 (Dense)             (None, 1)                 2         \n",
            "=================================================================\n",
            "Total params: 2\n",
            "Trainable params: 2\n",
            "Non-trainable params: 0\n",
            "_________________________________________________________________\n"
          ],
          "name": "stdout"
        }
      ]
    },
    {
      "cell_type": "markdown",
      "metadata": {
        "id": "Ts2m-GUXVE7Q"
      },
      "source": [
        " # We then compile"
      ]
    },
    {
      "cell_type": "code",
      "metadata": {
        "collapsed": true,
        "id": "hhtREiKnVE7Q"
      },
      "source": [
        "ann.compile(optimizer=tf.optimizers.Adam(),loss='mse')"
      ],
      "execution_count": null,
      "outputs": []
    },
    {
      "cell_type": "markdown",
      "metadata": {
        "id": "5Ax3CgZFVE7Q"
      },
      "source": [
        "We are simply tht we want to minimize the mean square error (mse) between input and output. We call this the \"loss function\". So we are looking for the value of $w$ that minimizes the following expression: $$ \\sum(x-w.x)^2$$"
      ]
    },
    {
      "cell_type": "markdown",
      "metadata": {
        "id": "sc9SHME0VE7Q"
      },
      "source": [
        "# And fit the model ..."
      ]
    },
    {
      "cell_type": "code",
      "metadata": {
        "id": "rDGy4f97VE7R",
        "outputId": "a03c9129-5165-4cf1-9c9b-24266308f936"
      },
      "source": [
        "ann.fit(x,y,batch_size=1,epochs=20)"
      ],
      "execution_count": null,
      "outputs": [
        {
          "output_type": "stream",
          "text": [
            "Epoch 1/20\n",
            "100/100 [==============================] - 0s 952us/step - loss: 0.0162\n",
            "Epoch 2/20\n",
            "100/100 [==============================] - 0s 718us/step - loss: 0.0081\n",
            "Epoch 3/20\n",
            "100/100 [==============================] - 0s 1ms/step - loss: 0.0038\n",
            "Epoch 4/20\n",
            "100/100 [==============================] - 0s 713us/step - loss: 0.0018\n",
            "Epoch 5/20\n",
            "100/100 [==============================] - 0s 747us/step - loss: 9.4478e-04\n",
            "Epoch 6/20\n",
            "100/100 [==============================] - 0s 932us/step - loss: 6.7448e-04\n",
            "Epoch 7/20\n",
            "100/100 [==============================] - 0s 675us/step - loss: 6.0405e-04\n",
            "Epoch 8/20\n",
            "100/100 [==============================] - 0s 709us/step - loss: 5.8495e-04\n",
            "Epoch 9/20\n",
            "100/100 [==============================] - 0s 729us/step - loss: 5.8156e-04\n",
            "Epoch 10/20\n",
            "100/100 [==============================] - 0s 962us/step - loss: 5.8399e-04\n",
            "Epoch 11/20\n",
            "100/100 [==============================] - 0s 690us/step - loss: 5.8506e-04\n",
            "Epoch 12/20\n",
            "100/100 [==============================] - 0s 723us/step - loss: 5.8602e-04\n",
            "Epoch 13/20\n",
            "100/100 [==============================] - 0s 752us/step - loss: 5.8706e-04\n",
            "Epoch 14/20\n",
            "100/100 [==============================] - 0s 720us/step - loss: 5.9323e-04\n",
            "Epoch 15/20\n",
            "100/100 [==============================] - 0s 775us/step - loss: 5.9682e-04\n",
            "Epoch 16/20\n",
            "100/100 [==============================] - 0s 874us/step - loss: 5.9189e-04\n",
            "Epoch 17/20\n",
            "100/100 [==============================] - 0s 920us/step - loss: 5.9617e-04\n",
            "Epoch 18/20\n",
            "100/100 [==============================] - 0s 940us/step - loss: 5.9631e-04\n",
            "Epoch 19/20\n",
            "100/100 [==============================] - 0s 1ms/step - loss: 5.9430e-04\n",
            "Epoch 20/20\n",
            "100/100 [==============================] - 0s 2ms/step - loss: 5.9222e-04\n"
          ],
          "name": "stdout"
        },
        {
          "output_type": "execute_result",
          "data": {
            "text/plain": [
              "<tensorflow.python.keras.callbacks.History at 0x143525160>"
            ]
          },
          "metadata": {
            "tags": []
          },
          "execution_count": 9
        }
      ]
    },
    {
      "cell_type": "markdown",
      "metadata": {
        "id": "JImVcZLyVE7R"
      },
      "source": [
        "# Let's see what we got here..."
      ]
    },
    {
      "cell_type": "code",
      "metadata": {
        "id": "bEtm7-q_VE7R",
        "outputId": "e85e4742-175b-445e-df63-395e0532b6a0"
      },
      "source": [
        "xp = np.linspace(-1,1)\n",
        "yp = ann.predict(xp)\n",
        "plt.plot(xp,yp,color='red',label='ANN')\n",
        "plt.scatter(x,y,label='data')\n",
        "plt.plot(np.linspace(-1,1),np.linspace(-1,1)*res[0]+res[1],color='green',label='polyfit')\n",
        "plt.legend()"
      ],
      "execution_count": null,
      "outputs": [
        {
          "output_type": "execute_result",
          "data": {
            "text/plain": [
              "<matplotlib.legend.Legend at 0x1436a6668>"
            ]
          },
          "metadata": {
            "tags": []
          },
          "execution_count": 11
        },
        {
          "output_type": "display_data",
          "data": {
            "image/png": "[encoded data removed]",
            "text/plain": [
              "<Figure size 432x288 with 1 Axes>"
            ]
          },
          "metadata": {
            "tags": []
          }
        }
      ]
    },
    {
      "cell_type": "markdown",
      "metadata": {
        "id": "IncN226-VE7R"
      },
      "source": [
        "We have performed a linear regression with and artifical neural network ! So, yes, linear regression IS also Machine Learning..."
      ]
    },
    {
      "cell_type": "markdown",
      "metadata": {
        "id": "8zpwhMgfVE7S"
      },
      "source": [
        "# But why is this useful ? "
      ]
    },
    {
      "cell_type": "markdown",
      "metadata": {
        "id": "u6y3vMj7VE7S"
      },
      "source": [
        "Let's suppose we have a more complex dataset..."
      ]
    },
    {
      "cell_type": "code",
      "metadata": {
        "collapsed": true,
        "id": "3CVeXr2ZVE7S"
      },
      "source": [
        "x = np.random.uniform(-1,1,100)\n",
        "y = 0.1*x+np.sin(2.5*x)+np.random.normal(0,0.2,100)"
      ],
      "execution_count": null,
      "outputs": []
    },
    {
      "cell_type": "code",
      "metadata": {
        "id": "FrKurFICVE7S",
        "outputId": "ba289367-fbc1-400f-8083-344f32dca19f"
      },
      "source": [
        "plt.scatter(x,y)\n",
        "plt.show()"
      ],
      "execution_count": null,
      "outputs": [
        {
          "output_type": "display_data",
          "data": {
            "image/png": "[encoded data removed]",
            "text/plain": [
              "<Figure size 432x288 with 1 Axes>"
            ]
          },
          "metadata": {
            "tags": []
          }
        }
      ]
    },
    {
      "cell_type": "markdown",
      "metadata": {
        "id": "SWeuuDrAVE7S"
      },
      "source": [
        "# I can try again simple linear regression ..."
      ]
    },
    {
      "cell_type": "code",
      "metadata": {
        "id": "iVkCaIdqVE7S",
        "outputId": "d8833daf-8e36-4485-8466-e3769327e2ea"
      },
      "source": [
        "res = np.polyfit(x,y,1)\n",
        "print(res)\n",
        "plt.scatter(x,y,label='data')\n",
        "plt.plot(np.linspace(-1,1),np.linspace(-1,1)*res[0]+res[1],color='green',label='polyfit')\n",
        "plt.legend()\n",
        "plt.show()"
      ],
      "execution_count": null,
      "outputs": [
        {
          "output_type": "stream",
          "text": [
            "[ 1.30004956 -0.00488377]\n"
          ],
          "name": "stdout"
        },
        {
          "output_type": "display_data",
          "data": {
            "image/png": "[encoded data removed]",
            "text/plain": [
              "<Figure size 432x288 with 1 Axes>"
            ]
          },
          "metadata": {
            "tags": []
          }
        }
      ]
    },
    {
      "cell_type": "markdown",
      "metadata": {
        "id": "chYup1A3VE7T"
      },
      "source": [
        "but that will not work super well as expected..."
      ]
    },
    {
      "cell_type": "code",
      "metadata": {
        "id": "hU0ZkddaVE7T",
        "outputId": "206aceec-6fe7-412f-9e19-5e19c7631c33"
      },
      "source": [
        "tfd = tfp.distributions\n",
        "tfpl = tfp.layers\n",
        "tfk = tf.keras\n",
        "tfkl = tf.keras.layers\n",
        "\n",
        "ann = tfk.Sequential([\n",
        "tf.keras.layers.Flatten(input_shape=(1,1)),      \n",
        "tfkl.Dense(15, activation='sigmoid'),\n",
        "tfkl.Dense(10, activation='sigmoid'),\n",
        "tfkl.Dense(5, activation='relu'),\n",
        "tfkl.Dense(1, activation=None)])\n",
        "ann.compile(optimizer=tf.optimizers.Adam(),loss='mse')\n",
        "ann.fit(x,y,batch_size=1,epochs=50)"
      ],
      "execution_count": null,
      "outputs": [
        {
          "output_type": "stream",
          "text": [
            "Epoch 1/50\n",
            "100/100 [==============================] - 0s 817us/step - loss: 0.7286\n",
            "Epoch 2/50\n",
            "100/100 [==============================] - 0s 802us/step - loss: 0.7089\n",
            "Epoch 3/50\n",
            "100/100 [==============================] - 0s 790us/step - loss: 0.6887\n",
            "Epoch 4/50\n",
            "100/100 [==============================] - 0s 977us/step - loss: 0.6708\n",
            "Epoch 5/50\n",
            "100/100 [==============================] - 0s 1ms/step - loss: 0.6497\n",
            "Epoch 6/50\n",
            "100/100 [==============================] - 0s 970us/step - loss: 0.6217\n",
            "Epoch 7/50\n",
            "100/100 [==============================] - 0s 996us/step - loss: 0.5875\n",
            "Epoch 8/50\n",
            "100/100 [==============================] - 0s 947us/step - loss: 0.5400\n",
            "Epoch 9/50\n",
            "100/100 [==============================] - 0s 821us/step - loss: 0.4906\n",
            "Epoch 10/50\n",
            "100/100 [==============================] - 0s 915us/step - loss: 0.4246\n",
            "Epoch 11/50\n",
            "100/100 [==============================] - 0s 950us/step - loss: 0.3658\n",
            "Epoch 12/50\n",
            "100/100 [==============================] - 0s 1ms/step - loss: 0.2968\n",
            "Epoch 13/50\n",
            "100/100 [==============================] - 0s 995us/step - loss: 0.2379\n",
            "Epoch 14/50\n",
            "100/100 [==============================] - 0s 903us/step - loss: 0.1910\n",
            "Epoch 15/50\n",
            "100/100 [==============================] - 0s 1ms/step - loss: 0.1519\n",
            "Epoch 16/50\n",
            "100/100 [==============================] - 0s 919us/step - loss: 0.1309\n",
            "Epoch 17/50\n",
            "100/100 [==============================] - 0s 912us/step - loss: 0.1121\n",
            "Epoch 18/50\n",
            "100/100 [==============================] - 0s 867us/step - loss: 0.1053\n",
            "Epoch 19/50\n",
            "100/100 [==============================] - 0s 940us/step - loss: 0.1014\n",
            "Epoch 20/50\n",
            "100/100 [==============================] - 0s 816us/step - loss: 0.1001\n",
            "Epoch 21/50\n",
            "100/100 [==============================] - 0s 882us/step - loss: 0.0979\n",
            "Epoch 22/50\n",
            "100/100 [==============================] - 0s 876us/step - loss: 0.0927\n",
            "Epoch 23/50\n",
            "100/100 [==============================] - 0s 865us/step - loss: 0.0925\n",
            "Epoch 24/50\n",
            "100/100 [==============================] - 0s 824us/step - loss: 0.0918\n",
            "Epoch 25/50\n",
            "100/100 [==============================] - 0s 873us/step - loss: 0.0900\n",
            "Epoch 26/50\n",
            "100/100 [==============================] - 0s 1ms/step - loss: 0.0918\n",
            "Epoch 27/50\n",
            "100/100 [==============================] - 0s 1ms/step - loss: 0.0904\n",
            "Epoch 28/50\n",
            "100/100 [==============================] - 0s 968us/step - loss: 0.0916\n",
            "Epoch 29/50\n",
            "100/100 [==============================] - 0s 910us/step - loss: 0.0912\n",
            "Epoch 30/50\n",
            "100/100 [==============================] - 0s 876us/step - loss: 0.0876\n",
            "Epoch 31/50\n",
            "100/100 [==============================] - 0s 907us/step - loss: 0.0839\n",
            "Epoch 32/50\n",
            "100/100 [==============================] - 0s 852us/step - loss: 0.0866\n",
            "Epoch 33/50\n",
            "100/100 [==============================] - 0s 838us/step - loss: 0.0869\n",
            "Epoch 34/50\n",
            "100/100 [==============================] - 0s 849us/step - loss: 0.0832\n",
            "Epoch 35/50\n",
            "100/100 [==============================] - 0s 906us/step - loss: 0.0875\n",
            "Epoch 36/50\n",
            "100/100 [==============================] - 0s 873us/step - loss: 0.0864\n",
            "Epoch 37/50\n",
            "100/100 [==============================] - 0s 889us/step - loss: 0.0822\n",
            "Epoch 38/50\n",
            "100/100 [==============================] - 0s 846us/step - loss: 0.0825\n",
            "Epoch 39/50\n",
            "100/100 [==============================] - 0s 1ms/step - loss: 0.0813\n",
            "Epoch 40/50\n",
            "100/100 [==============================] - 0s 978us/step - loss: 0.0853\n",
            "Epoch 41/50\n",
            "100/100 [==============================] - 0s 1ms/step - loss: 0.0789\n",
            "Epoch 42/50\n",
            "100/100 [==============================] - 0s 1ms/step - loss: 0.0845\n",
            "Epoch 43/50\n",
            "100/100 [==============================] - 0s 936us/step - loss: 0.0767\n",
            "Epoch 44/50\n",
            "100/100 [==============================] - 0s 886us/step - loss: 0.0793\n",
            "Epoch 45/50\n",
            "100/100 [==============================] - 0s 846us/step - loss: 0.0770\n",
            "Epoch 46/50\n",
            "100/100 [==============================] - 0s 803us/step - loss: 0.0812\n",
            "Epoch 47/50\n",
            "100/100 [==============================] - 0s 900us/step - loss: 0.0790\n",
            "Epoch 48/50\n",
            "100/100 [==============================] - 0s 881us/step - loss: 0.0765\n",
            "Epoch 49/50\n",
            "100/100 [==============================] - 0s 933us/step - loss: 0.0731\n",
            "Epoch 50/50\n",
            "100/100 [==============================] - 0s 914us/step - loss: 0.0779\n"
          ],
          "name": "stdout"
        },
        {
          "output_type": "execute_result",
          "data": {
            "text/plain": [
              "<tensorflow.python.keras.callbacks.History at 0x144403588>"
            ]
          },
          "metadata": {
            "tags": []
          },
          "execution_count": 36
        }
      ]
    },
    {
      "cell_type": "markdown",
      "metadata": {
        "id": "WIFjpJT1VE7T"
      },
      "source": [
        "# Let's go back to our complicated ANN ..."
      ]
    },
    {
      "cell_type": "code",
      "metadata": {
        "id": "oKxmTy8SVE7T",
        "outputId": "c5dc5235-4c1a-4a2e-f05d-24a087c5d468"
      },
      "source": [
        "tfd = tfp.distributions\n",
        "tfpl = tfp.layers\n",
        "tfk = tf.keras\n",
        "tfkl = tf.keras.layers\n",
        "\n",
        "ann = tfk.Sequential([\n",
        "tf.keras.layers.Flatten(input_shape=(1,1)),      \n",
        "tfkl.Dense(1, activation=None)])\n",
        "ann.compile(optimizer=tf.optimizers.Adam(),loss='mse')\n",
        "ann.fit(x,y,batch_size=1,epochs=50)"
      ],
      "execution_count": null,
      "outputs": [
        {
          "output_type": "stream",
          "text": [
            "Epoch 1/50\n",
            "100/100 [==============================] - 0s 878us/step - loss: 0.1715\n",
            "Epoch 2/50\n",
            "100/100 [==============================] - 0s 853us/step - loss: 0.1689\n",
            "Epoch 3/50\n",
            "100/100 [==============================] - 0s 2ms/step - loss: 0.1668\n",
            "Epoch 4/50\n",
            "100/100 [==============================] - 0s 757us/step - loss: 0.1651\n",
            "Epoch 5/50\n",
            "100/100 [==============================] - 0s 767us/step - loss: 0.1639\n",
            "Epoch 6/50\n",
            "100/100 [==============================] - 0s 770us/step - loss: 0.1631\n",
            "Epoch 7/50\n",
            "100/100 [==============================] - 0s 771us/step - loss: 0.1622\n",
            "Epoch 8/50\n",
            "100/100 [==============================] - ETA: 0s - loss: 0.149 - 0s 930us/step - loss: 0.1616\n",
            "Epoch 9/50\n",
            "100/100 [==============================] - 0s 1ms/step - loss: 0.1610\n",
            "Epoch 10/50\n",
            "100/100 [==============================] - 0s 910us/step - loss: 0.1608\n",
            "Epoch 11/50\n",
            "100/100 [==============================] - 0s 944us/step - loss: 0.1603\n",
            "Epoch 12/50\n",
            "100/100 [==============================] - 0s 883us/step - loss: 0.1600\n",
            "Epoch 13/50\n",
            "100/100 [==============================] - 0s 1ms/step - loss: 0.1598\n",
            "Epoch 14/50\n",
            "100/100 [==============================] - 0s 1ms/step - loss: 0.1598\n",
            "Epoch 15/50\n",
            "100/100 [==============================] - 0s 1ms/step - loss: 0.1596\n",
            "Epoch 16/50\n",
            "100/100 [==============================] - 0s 1ms/step - loss: 0.1596\n",
            "Epoch 17/50\n",
            "100/100 [==============================] - 0s 2ms/step - loss: 0.1593\n",
            "Epoch 18/50\n",
            "100/100 [==============================] - 0s 915us/step - loss: 0.1592\n",
            "Epoch 19/50\n",
            "100/100 [==============================] - 0s 724us/step - loss: 0.1593\n",
            "Epoch 20/50\n",
            "100/100 [==============================] - 0s 776us/step - loss: 0.1593\n",
            "Epoch 21/50\n",
            "100/100 [==============================] - 0s 742us/step - loss: 0.1595\n",
            "Epoch 22/50\n",
            "100/100 [==============================] - 0s 755us/step - loss: 0.1591\n",
            "Epoch 23/50\n",
            "100/100 [==============================] - 0s 709us/step - loss: 0.1592\n",
            "Epoch 24/50\n",
            "100/100 [==============================] - 0s 866us/step - loss: 0.1592\n",
            "Epoch 25/50\n",
            "100/100 [==============================] - 0s 1ms/step - loss: 0.1593\n",
            "Epoch 26/50\n",
            "100/100 [==============================] - 0s 881us/step - loss: 0.1593\n",
            "Epoch 27/50\n",
            "100/100 [==============================] - 0s 880us/step - loss: 0.1593\n",
            "Epoch 28/50\n",
            "100/100 [==============================] - 0s 933us/step - loss: 0.1592\n",
            "Epoch 29/50\n",
            "100/100 [==============================] - 0s 742us/step - loss: 0.1592\n",
            "Epoch 30/50\n",
            "100/100 [==============================] - 0s 787us/step - loss: 0.1592\n",
            "Epoch 31/50\n",
            "100/100 [==============================] - 0s 811us/step - loss: 0.1594\n",
            "Epoch 32/50\n",
            "100/100 [==============================] - 0s 821us/step - loss: 0.1591\n",
            "Epoch 33/50\n",
            "100/100 [==============================] - 0s 802us/step - loss: 0.1591\n",
            "Epoch 34/50\n",
            "100/100 [==============================] - 0s 730us/step - loss: 0.1594\n",
            "Epoch 35/50\n",
            "100/100 [==============================] - 0s 877us/step - loss: 0.1592\n",
            "Epoch 36/50\n",
            "100/100 [==============================] - 0s 710us/step - loss: 0.1593\n",
            "Epoch 37/50\n",
            "100/100 [==============================] - 0s 721us/step - loss: 0.1591\n",
            "Epoch 38/50\n",
            "100/100 [==============================] - 0s 795us/step - loss: 0.1592\n",
            "Epoch 39/50\n",
            "100/100 [==============================] - 0s 718us/step - loss: 0.1590\n",
            "Epoch 40/50\n",
            "100/100 [==============================] - 0s 775us/step - loss: 0.1592\n",
            "Epoch 41/50\n",
            "100/100 [==============================] - 0s 725us/step - loss: 0.1591\n",
            "Epoch 42/50\n",
            "100/100 [==============================] - 0s 700us/step - loss: 0.1594\n",
            "Epoch 43/50\n",
            "100/100 [==============================] - 0s 743us/step - loss: 0.1591\n",
            "Epoch 44/50\n",
            "100/100 [==============================] - 0s 759us/step - loss: 0.1591\n",
            "Epoch 45/50\n",
            "100/100 [==============================] - 0s 738us/step - loss: 0.1591\n",
            "Epoch 46/50\n",
            "100/100 [==============================] - 0s 733us/step - loss: 0.1593\n",
            "Epoch 47/50\n",
            "100/100 [==============================] - 0s 787us/step - loss: 0.1592\n",
            "Epoch 48/50\n",
            "100/100 [==============================] - 0s 749us/step - loss: 0.1591\n",
            "Epoch 49/50\n",
            "100/100 [==============================] - 0s 669us/step - loss: 0.1591\n",
            "Epoch 50/50\n",
            "100/100 [==============================] - 0s 790us/step - loss: 0.1593\n"
          ],
          "name": "stdout"
        },
        {
          "output_type": "execute_result",
          "data": {
            "text/plain": [
              "<tensorflow.python.keras.callbacks.History at 0x145fede10>"
            ]
          },
          "metadata": {
            "tags": []
          },
          "execution_count": 96
        }
      ]
    },
    {
      "cell_type": "code",
      "metadata": {
        "id": "cd-bDbTHVE7T",
        "outputId": "7afccd23-d8aa-4953-89b5-297284d74035"
      },
      "source": [
        "xp = np.linspace(-1,1)\n",
        "yp = ann.predict(xp)\n",
        "plt.plot(xp,yp,color='red',label='ANN')\n",
        "plt.plot(np.linspace(-1,1),np.linspace(-1,1)*res[0]+res[1],color='green',label='polyfit')\n",
        "plt.scatter(x,y)\n",
        "plt.legend()"
      ],
      "execution_count": null,
      "outputs": [
        {
          "output_type": "execute_result",
          "data": {
            "text/plain": [
              "<matplotlib.legend.Legend at 0x144a22eb8>"
            ]
          },
          "metadata": {
            "tags": []
          },
          "execution_count": 51
        },
        {
          "output_type": "display_data",
          "data": {
            "image/png": "[encoded data removed]",
            "text/plain": [
              "<Figure size 432x288 with 1 Axes>"
            ]
          },
          "metadata": {
            "tags": []
          }
        }
      ]
    },
    {
      "cell_type": "markdown",
      "metadata": {
        "id": "XwCzDHC6VE7U"
      },
      "source": [
        "If I do not change anything, I will obtain the same result. My model is simply linear..."
      ]
    },
    {
      "cell_type": "markdown",
      "metadata": {
        "id": "WLosTF5eVE7U"
      },
      "source": [
        "# Let's add a bit of non-linearity ..."
      ]
    },
    {
      "cell_type": "code",
      "metadata": {
        "collapsed": true,
        "id": "XXo_txJiVE7U"
      },
      "source": [
        "tfd = tfp.distributions\n",
        "tfpl = tfp.layers\n",
        "tfk = tf.keras\n",
        "tfkl = tf.keras.layers\n",
        "\n",
        "ann = tfk.Sequential([\n",
        "tf.keras.layers.Flatten(input_shape=(1,1)),      \n",
        "tfkl.Dense(1, activation='sigmoid')])\n"
      ],
      "execution_count": null,
      "outputs": []
    },
    {
      "cell_type": "markdown",
      "metadata": {
        "id": "gLD4zYR7VE7V"
      },
      "source": [
        "The sigmoid function is given by this expression: $$ \\frac{1}{1+e^{-x}}$$\n",
        "So our model is now like this:![alt](https://drive.google.com/uc?id=1-2VbatzRnqGJMKCga-tppiTo6iPRBr9s)\n",
        "This is what we call a perceptron. The non-linear function added after the linear combination is also called the activation function, because \"it fires the unit\"."
      ]
    },
    {
      "cell_type": "code",
      "metadata": {
        "id": "R9hbqfFhVE7V",
        "outputId": "8f19b9b2-c62c-428d-e2b3-236e9fd05b39"
      },
      "source": [
        "ann.summary()"
      ],
      "execution_count": null,
      "outputs": [
        {
          "output_type": "stream",
          "text": [
            "Model: \"sequential_23\"\n",
            "_________________________________________________________________\n",
            "Layer (type)                 Output Shape              Param #   \n",
            "=================================================================\n",
            "flatten_28 (Flatten)         (None, 1)                 0         \n",
            "_________________________________________________________________\n",
            "dense_50 (Dense)             (None, 1)                 2         \n",
            "=================================================================\n",
            "Total params: 2\n",
            "Trainable params: 2\n",
            "Non-trainable params: 0\n",
            "_________________________________________________________________\n"
          ],
          "name": "stdout"
        }
      ]
    },
    {
      "cell_type": "code",
      "metadata": {
        "id": "AYHMWcnnVE7V",
        "outputId": "acdb1153-e3e0-45f8-f089-3eb3013719b8"
      },
      "source": [
        "ann.compile(optimizer=tf.optimizers.Adam(),loss='mse')\n",
        "ann.fit(x,y,batch_size=1,epochs=50)"
      ],
      "execution_count": null,
      "outputs": [
        {
          "output_type": "stream",
          "text": [
            "Epoch 1/50\n",
            "100/100 [==============================] - 0s 994us/step - loss: 0.8295\n",
            "Epoch 2/50\n",
            "100/100 [==============================] - 0s 781us/step - loss: 0.8033\n",
            "Epoch 3/50\n",
            "100/100 [==============================] - 0s 758us/step - loss: 0.7793\n",
            "Epoch 4/50\n",
            "100/100 [==============================] - 0s 730us/step - loss: 0.7579\n",
            "Epoch 5/50\n",
            "100/100 [==============================] - 0s 768us/step - loss: 0.7385\n",
            "Epoch 6/50\n",
            "100/100 [==============================] - 0s 753us/step - loss: 0.7211\n",
            "Epoch 7/50\n",
            "100/100 [==============================] - 0s 743us/step - loss: 0.7052\n",
            "Epoch 8/50\n",
            "100/100 [==============================] - 0s 742us/step - loss: 0.6910\n",
            "Epoch 9/50\n",
            "100/100 [==============================] - 0s 761us/step - loss: 0.6780\n",
            "Epoch 10/50\n",
            "100/100 [==============================] - 0s 845us/step - loss: 0.6661\n",
            "Epoch 11/50\n",
            "100/100 [==============================] - 0s 853us/step - loss: 0.6554\n",
            "Epoch 12/50\n",
            "100/100 [==============================] - 0s 788us/step - loss: 0.6456\n",
            "Epoch 13/50\n",
            "100/100 [==============================] - 0s 1ms/step - loss: 0.6366\n",
            "Epoch 14/50\n",
            "100/100 [==============================] - 0s 951us/step - loss: 0.6283\n",
            "Epoch 15/50\n",
            "100/100 [==============================] - 0s 798us/step - loss: 0.6208\n",
            "Epoch 16/50\n",
            "100/100 [==============================] - 0s 783us/step - loss: 0.6138\n",
            "Epoch 17/50\n",
            "100/100 [==============================] - 0s 792us/step - loss: 0.6074\n",
            "Epoch 18/50\n",
            "100/100 [==============================] - 0s 789us/step - loss: 0.6015\n",
            "Epoch 19/50\n",
            "100/100 [==============================] - 0s 765us/step - loss: 0.5958\n",
            "Epoch 20/50\n",
            "100/100 [==============================] - 0s 826us/step - loss: 0.5907\n",
            "Epoch 21/50\n",
            "100/100 [==============================] - 0s 782us/step - loss: 0.5858\n",
            "Epoch 22/50\n",
            "100/100 [==============================] - 0s 753us/step - loss: 0.5814\n",
            "Epoch 23/50\n",
            "100/100 [==============================] - 0s 840us/step - loss: 0.5771\n",
            "Epoch 24/50\n",
            "100/100 [==============================] - 0s 734us/step - loss: 0.5731\n",
            "Epoch 25/50\n",
            "100/100 [==============================] - 0s 775us/step - loss: 0.5694\n",
            "Epoch 26/50\n",
            "100/100 [==============================] - 0s 827us/step - loss: 0.5658\n",
            "Epoch 27/50\n",
            "100/100 [==============================] - 0s 807us/step - loss: 0.5625\n",
            "Epoch 28/50\n",
            "100/100 [==============================] - 0s 999us/step - loss: 0.5593\n",
            "Epoch 29/50\n",
            "100/100 [==============================] - 0s 742us/step - loss: 0.5563\n",
            "Epoch 30/50\n",
            "100/100 [==============================] - 0s 793us/step - loss: 0.5535\n",
            "Epoch 31/50\n",
            "100/100 [==============================] - 0s 833us/step - loss: 0.5507\n",
            "Epoch 32/50\n",
            "100/100 [==============================] - 0s 804us/step - loss: 0.5482\n",
            "Epoch 33/50\n",
            "100/100 [==============================] - 0s 801us/step - loss: 0.5457\n",
            "Epoch 34/50\n",
            "100/100 [==============================] - 0s 995us/step - loss: 0.5433\n",
            "Epoch 35/50\n",
            "100/100 [==============================] - 0s 1ms/step - loss: 0.5410\n",
            "Epoch 36/50\n",
            "100/100 [==============================] - 0s 867us/step - loss: 0.5389\n",
            "Epoch 37/50\n",
            "100/100 [==============================] - 0s 2ms/step - loss: 0.5368\n",
            "Epoch 38/50\n",
            "100/100 [==============================] - 0s 915us/step - loss: 0.5348\n",
            "Epoch 39/50\n",
            "100/100 [==============================] - 0s 741us/step - loss: 0.5329\n",
            "Epoch 40/50\n",
            "100/100 [==============================] - 0s 796us/step - loss: 0.5310\n",
            "Epoch 41/50\n",
            "100/100 [==============================] - 0s 791us/step - loss: 0.5292\n",
            "Epoch 42/50\n",
            "100/100 [==============================] - 0s 781us/step - loss: 0.5275\n",
            "Epoch 43/50\n",
            "100/100 [==============================] - 0s 757us/step - loss: 0.5258\n",
            "Epoch 44/50\n",
            "100/100 [==============================] - 0s 755us/step - loss: 0.5242\n",
            "Epoch 45/50\n",
            "100/100 [==============================] - 0s 852us/step - loss: 0.5227\n",
            "Epoch 46/50\n",
            "100/100 [==============================] - 0s 857us/step - loss: 0.5212\n",
            "Epoch 47/50\n",
            "100/100 [==============================] - 0s 854us/step - loss: 0.5197\n",
            "Epoch 48/50\n",
            "100/100 [==============================] - 0s 879us/step - loss: 0.5183\n",
            "Epoch 49/50\n",
            "100/100 [==============================] - 0s 879us/step - loss: 0.5169\n",
            "Epoch 50/50\n",
            "100/100 [==============================] - 0s 776us/step - loss: 0.5156\n"
          ],
          "name": "stdout"
        },
        {
          "output_type": "execute_result",
          "data": {
            "text/plain": [
              "<tensorflow.python.keras.callbacks.History at 0x143dbe630>"
            ]
          },
          "metadata": {
            "tags": []
          },
          "execution_count": 54
        }
      ]
    },
    {
      "cell_type": "code",
      "metadata": {
        "id": "cabQ6_IkVE7W",
        "outputId": "6e5257e6-9abc-4985-9f42-e760cd6134d6"
      },
      "source": [
        "xp = np.linspace(-1,1)\n",
        "yp = ann.predict(xp)\n",
        "plt.plot(xp,yp,color='red',label='ANN')\n",
        "plt.plot(np.linspace(-1,1),np.linspace(-1,1)*res[0]+res[1],color='green',label='polyfit')\n",
        "plt.scatter(x,y)\n",
        "plt.legend()"
      ],
      "execution_count": null,
      "outputs": [
        {
          "output_type": "execute_result",
          "data": {
            "text/plain": [
              "<matplotlib.legend.Legend at 0x143dc3ac8>"
            ]
          },
          "metadata": {
            "tags": []
          },
          "execution_count": 55
        },
        {
          "output_type": "display_data",
          "data": {
            "image/png": "[encoded data removed]",
            "text/plain": [
              "<Figure size 432x288 with 1 Axes>"
            ]
          },
          "metadata": {
            "tags": []
          }
        }
      ]
    },
    {
      "cell_type": "markdown",
      "metadata": {
        "id": "PK_EjsP9VE7W"
      },
      "source": [
        "Still not great, but there is some potential !?"
      ]
    },
    {
      "cell_type": "markdown",
      "metadata": {
        "id": "kSWG7_EvVE7X"
      },
      "source": [
        "# We are going to work a bit more on the model"
      ]
    },
    {
      "cell_type": "code",
      "metadata": {
        "collapsed": true,
        "id": "gcm0tb5SVE7X"
      },
      "source": [
        "tfd = tfp.distributions\n",
        "tfpl = tfp.layers\n",
        "tfk = tf.keras\n",
        "tfkl = tf.keras.layers\n",
        "\n",
        "ann = tfk.Sequential([\n",
        "tf.keras.layers.Flatten(input_shape=(1,1)),      \n",
        "tfkl.Dense(1, activation='sigmoid'),\n",
        "tfkl.Dense(1, activation=None)])\n"
      ],
      "execution_count": null,
      "outputs": []
    },
    {
      "cell_type": "markdown",
      "metadata": {
        "id": "yYiXwT_rVE7X"
      },
      "source": [
        "We have added \"a layer\". Our model is now: $$ y=(\\frac{1}{1+e^{-(w_1.x)}}).w_2$$\n",
        "![alt](https://drive.google.com/uc?id=1E0iobni7jhUI2jfGKPb081OM_QDB5Hjg)"
      ]
    },
    {
      "cell_type": "code",
      "metadata": {
        "id": "pD3h4rTuVE7X",
        "outputId": "e66a8267-bc68-4bdc-d26d-26819b997779"
      },
      "source": [
        "ann.summary()"
      ],
      "execution_count": null,
      "outputs": [
        {
          "output_type": "stream",
          "text": [
            "Model: \"sequential_24\"\n",
            "_________________________________________________________________\n",
            "Layer (type)                 Output Shape              Param #   \n",
            "=================================================================\n",
            "flatten_29 (Flatten)         (None, 1)                 0         \n",
            "_________________________________________________________________\n",
            "dense_51 (Dense)             (None, 1)                 2         \n",
            "_________________________________________________________________\n",
            "dense_52 (Dense)             (None, 1)                 2         \n",
            "=================================================================\n",
            "Total params: 4\n",
            "Trainable params: 4\n",
            "Non-trainable params: 0\n",
            "_________________________________________________________________\n"
          ],
          "name": "stdout"
        }
      ]
    },
    {
      "cell_type": "code",
      "metadata": {
        "id": "meaCUYihVE7Y",
        "outputId": "32610104-911b-474c-8d1c-0adbe50e5a6a"
      },
      "source": [
        "ann.compile(optimizer=tf.optimizers.Adam(),loss='mse')\n",
        "ann.fit(x,y,batch_size=1,epochs=50)"
      ],
      "execution_count": null,
      "outputs": [
        {
          "output_type": "stream",
          "text": [
            "Epoch 1/50\n",
            "100/100 [==============================] - 0s 967us/step - loss: 0.7318\n",
            "Epoch 2/50\n",
            "100/100 [==============================] - 0s 804us/step - loss: 0.7168\n",
            "Epoch 3/50\n",
            "100/100 [==============================] - 0s 791us/step - loss: 0.7027\n",
            "Epoch 4/50\n",
            "100/100 [==============================] - 0s 741us/step - loss: 0.6899\n",
            "Epoch 5/50\n",
            "100/100 [==============================] - 0s 859us/step - loss: 0.6774\n",
            "Epoch 6/50\n",
            "100/100 [==============================] - 0s 772us/step - loss: 0.6642\n",
            "Epoch 7/50\n",
            "100/100 [==============================] - 0s 868us/step - loss: 0.6517\n",
            "Epoch 8/50\n",
            "100/100 [==============================] - 0s 845us/step - loss: 0.6386\n",
            "Epoch 9/50\n",
            "100/100 [==============================] - 0s 832us/step - loss: 0.6251\n",
            "Epoch 10/50\n",
            "100/100 [==============================] - 0s 897us/step - loss: 0.6119\n",
            "Epoch 11/50\n",
            "100/100 [==============================] - 0s 786us/step - loss: 0.5975\n",
            "Epoch 12/50\n",
            "100/100 [==============================] - 0s 761us/step - loss: 0.5837\n",
            "Epoch 13/50\n",
            "100/100 [==============================] - 0s 838us/step - loss: 0.5683\n",
            "Epoch 14/50\n",
            "100/100 [==============================] - 0s 776us/step - loss: 0.5535\n",
            "Epoch 15/50\n",
            "100/100 [==============================] - 0s 756us/step - loss: 0.5388\n",
            "Epoch 16/50\n",
            "100/100 [==============================] - 0s 787us/step - loss: 0.5234\n",
            "Epoch 17/50\n",
            "100/100 [==============================] - 0s 922us/step - loss: 0.5088\n",
            "Epoch 18/50\n",
            "100/100 [==============================] - 0s 920us/step - loss: 0.4931\n",
            "Epoch 19/50\n",
            "100/100 [==============================] - 0s 725us/step - loss: 0.4776\n",
            "Epoch 20/50\n",
            "100/100 [==============================] - 0s 825us/step - loss: 0.4622\n",
            "Epoch 21/50\n",
            "100/100 [==============================] - 0s 783us/step - loss: 0.4473\n",
            "Epoch 22/50\n",
            "100/100 [==============================] - 0s 851us/step - loss: 0.4318\n",
            "Epoch 23/50\n",
            "100/100 [==============================] - 0s 911us/step - loss: 0.4164\n",
            "Epoch 24/50\n",
            "100/100 [==============================] - 0s 976us/step - loss: 0.4019\n",
            "Epoch 25/50\n",
            "100/100 [==============================] - 0s 732us/step - loss: 0.3874\n",
            "Epoch 26/50\n",
            "100/100 [==============================] - 0s 764us/step - loss: 0.3731\n",
            "Epoch 27/50\n",
            "100/100 [==============================] - 0s 726us/step - loss: 0.3588\n",
            "Epoch 28/50\n",
            "100/100 [==============================] - 0s 783us/step - loss: 0.3450\n",
            "Epoch 29/50\n",
            "100/100 [==============================] - 0s 801us/step - loss: 0.3316\n",
            "Epoch 30/50\n",
            "100/100 [==============================] - 0s 827us/step - loss: 0.3189\n",
            "Epoch 31/50\n",
            "100/100 [==============================] - 0s 794us/step - loss: 0.3055\n",
            "Epoch 32/50\n",
            "100/100 [==============================] - 0s 849us/step - loss: 0.2931\n",
            "Epoch 33/50\n",
            "100/100 [==============================] - 0s 776us/step - loss: 0.2812\n",
            "Epoch 34/50\n",
            "100/100 [==============================] - 0s 777us/step - loss: 0.2692\n",
            "Epoch 35/50\n",
            "100/100 [==============================] - 0s 736us/step - loss: 0.2584\n",
            "Epoch 36/50\n",
            "100/100 [==============================] - 0s 797us/step - loss: 0.2473\n",
            "Epoch 37/50\n",
            "100/100 [==============================] - 0s 801us/step - loss: 0.2367\n",
            "Epoch 38/50\n",
            "100/100 [==============================] - 0s 803us/step - loss: 0.2265\n",
            "Epoch 39/50\n",
            "100/100 [==============================] - 0s 854us/step - loss: 0.2169\n",
            "Epoch 40/50\n",
            "100/100 [==============================] - 0s 840us/step - loss: 0.2078\n",
            "Epoch 41/50\n",
            "100/100 [==============================] - 0s 880us/step - loss: 0.1987\n",
            "Epoch 42/50\n",
            "100/100 [==============================] - 0s 983us/step - loss: 0.1902\n",
            "Epoch 43/50\n",
            "100/100 [==============================] - 0s 794us/step - loss: 0.1819\n",
            "Epoch 44/50\n",
            "100/100 [==============================] - 0s 799us/step - loss: 0.1738\n",
            "Epoch 45/50\n",
            "100/100 [==============================] - 0s 875us/step - loss: 0.1664\n",
            "Epoch 46/50\n",
            "100/100 [==============================] - 0s 723us/step - loss: 0.1594\n",
            "Epoch 47/50\n",
            "100/100 [==============================] - 0s 803us/step - loss: 0.1527\n",
            "Epoch 48/50\n",
            "100/100 [==============================] - 0s 767us/step - loss: 0.1464\n",
            "Epoch 49/50\n",
            "100/100 [==============================] - 0s 768us/step - loss: 0.1405\n",
            "Epoch 50/50\n",
            "100/100 [==============================] - 0s 840us/step - loss: 0.1347\n"
          ],
          "name": "stdout"
        },
        {
          "output_type": "execute_result",
          "data": {
            "text/plain": [
              "<tensorflow.python.keras.callbacks.History at 0x144b89748>"
            ]
          },
          "metadata": {
            "tags": []
          },
          "execution_count": 58
        }
      ]
    },
    {
      "cell_type": "code",
      "metadata": {
        "id": "zKXYFTacVE7Y",
        "outputId": "a31292c1-6b17-4c8a-8628-d0e9c68062df"
      },
      "source": [
        "xp = np.linspace(-1,1)\n",
        "yp = ann.predict(xp)\n",
        "plt.plot(xp,yp,color='red',label='ANN')\n",
        "plt.plot(np.linspace(-1,1),np.linspace(-1,1)*res[0]+res[1],color='green',label='polyfit')\n",
        "plt.scatter(x,y)\n",
        "plt.legend()"
      ],
      "execution_count": null,
      "outputs": [
        {
          "output_type": "execute_result",
          "data": {
            "text/plain": [
              "<matplotlib.legend.Legend at 0x144c70fd0>"
            ]
          },
          "metadata": {
            "tags": []
          },
          "execution_count": 59
        },
        {
          "output_type": "display_data",
          "data": {
            "image/png": "[encoded data removed]",
            "text/plain": [
              "<Figure size 432x288 with 1 Axes>"
            ]
          },
          "metadata": {
            "tags": []
          }
        }
      ]
    },
    {
      "cell_type": "markdown",
      "metadata": {
        "id": "SUEkYCI5VE7Y"
      },
      "source": [
        "Not fantastic, but getting better...You have just created your first ANN for regression!"
      ]
    },
    {
      "cell_type": "markdown",
      "metadata": {
        "id": "priNDi2BVE7Y"
      },
      "source": [
        "In fact, it turns out that it exists a mathematical theorem that proves that NNs are optimal approximators: \n"
      ]
    },
    {
      "cell_type": "markdown",
      "metadata": {
        "id": "ACHz-ClLVE7Y"
      },
      "source": [
        "FOR ANY CONTINUOS FUNCTION FOR A HYPERCUBE [0,1]d TO REAL NUMBERS, AND EVERY POSITIVE EPSILON, THERE EXISTS A SIGMOID BASED 1-HIDDEN LAYER NEURAL NETWORK THAT OBTAINES AT MOST EPSILON ERROR IN FUNCTIONAL SPACE - Cybenko+89"
      ]
    },
    {
      "cell_type": "markdown",
      "metadata": {
        "id": "VL3KMJM2VE7Z"
      },
      "source": [
        "“BIG ENOUGH NETWORK CAN APPROXIMATE, BUT NOT REPRESENT ANY SMOOTH FUNCTION. THE MATH DEMONSTRATION IMPLIES SHOWING THAT NETWORS ARE DENSE IN THE SPACE OF TARGET FUNCTIONS”"
      ]
    },
    {
      "cell_type": "markdown",
      "metadata": {
        "id": "ykn8zyUfVE7Z"
      },
      "source": [
        "So, the approximation theorem tells me that there exists a NN that can approximate any function. It does not tell me which one: this is the alchemia of ML. It does not tell me how to minimize it either!"
      ]
    },
    {
      "cell_type": "markdown",
      "metadata": {
        "id": "FHkTxckiVE7Z"
      },
      "source": [
        "# Let's then try to improve it...anyway."
      ]
    },
    {
      "cell_type": "code",
      "metadata": {
        "collapsed": true,
        "id": "SFlcILTEVE7Z"
      },
      "source": [
        "tfd = tfp.distributions\n",
        "tfpl = tfp.layers\n",
        "tfk = tf.keras\n",
        "tfkl = tf.keras.layers\n",
        "\n",
        "ann = tfk.Sequential([\n",
        "tf.keras.layers.Flatten(input_shape=(1,1)),      \n",
        "tfkl.Dense(10, activation='sigmoid'),\n",
        "tfkl.Dense(1, activation=None)])"
      ],
      "execution_count": null,
      "outputs": []
    },
    {
      "cell_type": "code",
      "metadata": {
        "id": "tTIR-aG6VE7Z",
        "outputId": "f5084f6c-4a86-48f9-f919-01644a9be3a8"
      },
      "source": [
        "ann.compile(optimizer=tf.optimizers.Adam(),loss='mse')\n",
        "ann.fit(x,y,batch_size=1,epochs=100)"
      ],
      "execution_count": null,
      "outputs": [
        {
          "output_type": "stream",
          "text": [
            "Epoch 1/100\n",
            "100/100 [==============================] - 0s 1ms/step - loss: 0.1310\n",
            "Epoch 2/100\n",
            "100/100 [==============================] - 0s 741us/step - loss: 0.1300\n",
            "Epoch 3/100\n",
            "100/100 [==============================] - 0s 755us/step - loss: 0.1296\n",
            "Epoch 4/100\n",
            "100/100 [==============================] - 0s 737us/step - loss: 0.1288\n",
            "Epoch 5/100\n",
            "100/100 [==============================] - 0s 746us/step - loss: 0.1285\n",
            "Epoch 6/100\n",
            "100/100 [==============================] - 0s 708us/step - loss: 0.1278\n",
            "Epoch 7/100\n",
            "100/100 [==============================] - 0s 734us/step - loss: 0.1279\n",
            "Epoch 8/100\n",
            "100/100 [==============================] - 0s 751us/step - loss: 0.1276\n",
            "Epoch 9/100\n",
            "100/100 [==============================] - 0s 742us/step - loss: 0.1266\n",
            "Epoch 10/100\n",
            "100/100 [==============================] - 0s 908us/step - loss: 0.1269\n",
            "Epoch 11/100\n",
            "100/100 [==============================] - 0s 983us/step - loss: 0.1277\n",
            "Epoch 12/100\n",
            "100/100 [==============================] - 0s 864us/step - loss: 0.1267\n",
            "Epoch 13/100\n",
            "100/100 [==============================] - 0s 1ms/step - loss: 0.1252\n",
            "Epoch 14/100\n",
            "100/100 [==============================] - 0s 868us/step - loss: 0.1252\n",
            "Epoch 15/100\n",
            "100/100 [==============================] - 0s 799us/step - loss: 0.1266\n",
            "Epoch 16/100\n",
            "100/100 [==============================] - 0s 845us/step - loss: 0.1239\n",
            "Epoch 17/100\n",
            "100/100 [==============================] - 0s 803us/step - loss: 0.1246\n",
            "Epoch 18/100\n",
            "100/100 [==============================] - 0s 1ms/step - loss: 0.1244\n",
            "Epoch 19/100\n",
            "100/100 [==============================] - 0s 794us/step - loss: 0.1238\n",
            "Epoch 20/100\n",
            "100/100 [==============================] - 0s 805us/step - loss: 0.1230\n",
            "Epoch 21/100\n",
            "100/100 [==============================] - 0s 807us/step - loss: 0.1227\n",
            "Epoch 22/100\n",
            "100/100 [==============================] - 0s 869us/step - loss: 0.1222\n",
            "Epoch 23/100\n",
            "100/100 [==============================] - 0s 1ms/step - loss: 0.1236\n",
            "Epoch 24/100\n",
            "100/100 [==============================] - 0s 949us/step - loss: 0.1224\n",
            "Epoch 25/100\n",
            "100/100 [==============================] - 0s 734us/step - loss: 0.1224\n",
            "Epoch 26/100\n",
            "100/100 [==============================] - 0s 949us/step - loss: 0.1224\n",
            "Epoch 27/100\n",
            "100/100 [==============================] - 0s 866us/step - loss: 0.1220\n",
            "Epoch 28/100\n",
            "100/100 [==============================] - 0s 755us/step - loss: 0.1202\n",
            "Epoch 29/100\n",
            "100/100 [==============================] - 0s 870us/step - loss: 0.1206\n",
            "Epoch 30/100\n",
            "100/100 [==============================] - 0s 906us/step - loss: 0.1191\n",
            "Epoch 31/100\n",
            "100/100 [==============================] - 0s 753us/step - loss: 0.1193\n",
            "Epoch 32/100\n",
            "100/100 [==============================] - 0s 886us/step - loss: 0.1181\n",
            "Epoch 33/100\n",
            "100/100 [==============================] - 0s 824us/step - loss: 0.1185\n",
            "Epoch 34/100\n",
            "100/100 [==============================] - 0s 1ms/step - loss: 0.1175\n",
            "Epoch 35/100\n",
            "100/100 [==============================] - 0s 2ms/step - loss: 0.1183\n",
            "Epoch 36/100\n",
            "100/100 [==============================] - 0s 1ms/step - loss: 0.1165\n",
            "Epoch 37/100\n",
            "100/100 [==============================] - 0s 1ms/step - loss: 0.1174\n",
            "Epoch 38/100\n",
            "100/100 [==============================] - 0s 910us/step - loss: 0.1166\n",
            "Epoch 39/100\n",
            "100/100 [==============================] - 0s 831us/step - loss: 0.1159\n",
            "Epoch 40/100\n",
            "100/100 [==============================] - 0s 830us/step - loss: 0.1160\n",
            "Epoch 41/100\n",
            "100/100 [==============================] - 0s 848us/step - loss: 0.1151\n",
            "Epoch 42/100\n",
            "100/100 [==============================] - 0s 805us/step - loss: 0.1142\n",
            "Epoch 43/100\n",
            "100/100 [==============================] - 0s 809us/step - loss: 0.1142\n",
            "Epoch 44/100\n",
            "100/100 [==============================] - 0s 846us/step - loss: 0.1133\n",
            "Epoch 45/100\n",
            "100/100 [==============================] - 0s 858us/step - loss: 0.1124\n",
            "Epoch 46/100\n",
            "100/100 [==============================] - 0s 933us/step - loss: 0.1136\n",
            "Epoch 47/100\n",
            "100/100 [==============================] - 0s 822us/step - loss: 0.1134\n",
            "Epoch 48/100\n",
            "100/100 [==============================] - 0s 905us/step - loss: 0.1122\n",
            "Epoch 49/100\n",
            "100/100 [==============================] - 0s 963us/step - loss: 0.1114\n",
            "Epoch 50/100\n",
            "100/100 [==============================] - 0s 892us/step - loss: 0.1101\n",
            "Epoch 51/100\n",
            "100/100 [==============================] - 0s 900us/step - loss: 0.1101\n",
            "Epoch 52/100\n",
            "100/100 [==============================] - 0s 838us/step - loss: 0.1090\n",
            "Epoch 53/100\n",
            "100/100 [==============================] - 0s 822us/step - loss: 0.1092\n",
            "Epoch 54/100\n",
            "100/100 [==============================] - 0s 806us/step - loss: 0.1081\n",
            "Epoch 55/100\n",
            "100/100 [==============================] - 0s 792us/step - loss: 0.1077\n",
            "Epoch 56/100\n",
            "100/100 [==============================] - 0s 819us/step - loss: 0.1069\n",
            "Epoch 57/100\n",
            "100/100 [==============================] - 0s 741us/step - loss: 0.1074\n",
            "Epoch 58/100\n",
            "100/100 [==============================] - 0s 683us/step - loss: 0.1056\n",
            "Epoch 59/100\n",
            "100/100 [==============================] - 0s 803us/step - loss: 0.1059\n",
            "Epoch 60/100\n",
            "100/100 [==============================] - 0s 791us/step - loss: 0.1055\n",
            "Epoch 61/100\n",
            "100/100 [==============================] - 0s 697us/step - loss: 0.1048\n",
            "Epoch 62/100\n",
            "100/100 [==============================] - 0s 686us/step - loss: 0.1052\n",
            "Epoch 63/100\n",
            "100/100 [==============================] - 0s 707us/step - loss: 0.1040\n",
            "Epoch 64/100\n",
            "100/100 [==============================] - 0s 779us/step - loss: 0.1034\n",
            "Epoch 65/100\n",
            "100/100 [==============================] - 0s 789us/step - loss: 0.1025\n",
            "Epoch 66/100\n",
            "100/100 [==============================] - 0s 778us/step - loss: 0.1018\n",
            "Epoch 67/100\n",
            "100/100 [==============================] - 0s 690us/step - loss: 0.1016\n",
            "Epoch 68/100\n",
            "100/100 [==============================] - 0s 769us/step - loss: 0.1011\n",
            "Epoch 69/100\n",
            "100/100 [==============================] - 0s 851us/step - loss: 0.1011\n",
            "Epoch 70/100\n",
            "100/100 [==============================] - 0s 691us/step - loss: 0.0995\n",
            "Epoch 71/100\n",
            "100/100 [==============================] - 0s 799us/step - loss: 0.0992\n",
            "Epoch 72/100\n",
            "100/100 [==============================] - 0s 1ms/step - loss: 0.0985\n",
            "Epoch 73/100\n",
            "100/100 [==============================] - 0s 869us/step - loss: 0.0982\n",
            "Epoch 74/100\n",
            "100/100 [==============================] - 0s 739us/step - loss: 0.0967\n",
            "Epoch 75/100\n",
            "100/100 [==============================] - 0s 729us/step - loss: 0.0974\n",
            "Epoch 76/100\n",
            "100/100 [==============================] - 0s 740us/step - loss: 0.0967\n",
            "Epoch 77/100\n",
            "100/100 [==============================] - 0s 737us/step - loss: 0.0961\n",
            "Epoch 78/100\n",
            "100/100 [==============================] - 0s 715us/step - loss: 0.0953\n",
            "Epoch 79/100\n",
            "100/100 [==============================] - 0s 674us/step - loss: 0.0954\n",
            "Epoch 80/100\n",
            "100/100 [==============================] - 0s 708us/step - loss: 0.0946\n",
            "Epoch 81/100\n",
            "100/100 [==============================] - 0s 797us/step - loss: 0.0939\n",
            "Epoch 82/100\n",
            "100/100 [==============================] - 0s 880us/step - loss: 0.0930\n",
            "Epoch 83/100\n",
            "100/100 [==============================] - 0s 744us/step - loss: 0.0921\n",
            "Epoch 84/100\n",
            "100/100 [==============================] - 0s 949us/step - loss: 0.0928\n",
            "Epoch 85/100\n",
            "100/100 [==============================] - 0s 784us/step - loss: 0.0912\n",
            "Epoch 86/100\n",
            "100/100 [==============================] - 0s 799us/step - loss: 0.0911\n",
            "Epoch 87/100\n",
            "100/100 [==============================] - 0s 752us/step - loss: 0.0894\n",
            "Epoch 88/100\n",
            "100/100 [==============================] - 0s 816us/step - loss: 0.0895\n",
            "Epoch 89/100\n",
            "100/100 [==============================] - 0s 734us/step - loss: 0.0888\n",
            "Epoch 90/100\n",
            "100/100 [==============================] - 0s 761us/step - loss: 0.0879\n",
            "Epoch 91/100\n",
            "100/100 [==============================] - 0s 719us/step - loss: 0.0884\n",
            "Epoch 92/100\n",
            "100/100 [==============================] - 0s 728us/step - loss: 0.0871\n",
            "Epoch 93/100\n",
            "100/100 [==============================] - 0s 726us/step - loss: 0.0864\n",
            "Epoch 94/100\n",
            "100/100 [==============================] - 0s 744us/step - loss: 0.0864\n",
            "Epoch 95/100\n",
            "100/100 [==============================] - 0s 767us/step - loss: 0.0853\n",
            "Epoch 96/100\n",
            "100/100 [==============================] - 0s 779us/step - loss: 0.0850\n",
            "Epoch 97/100\n",
            "100/100 [==============================] - 0s 861us/step - loss: 0.0843\n",
            "Epoch 98/100\n",
            "100/100 [==============================] - 0s 737us/step - loss: 0.0836\n",
            "Epoch 99/100\n",
            "100/100 [==============================] - 0s 764us/step - loss: 0.0827\n",
            "Epoch 100/100\n",
            "100/100 [==============================] - 0s 771us/step - loss: 0.0845\n"
          ],
          "name": "stdout"
        },
        {
          "output_type": "execute_result",
          "data": {
            "text/plain": [
              "<tensorflow.python.keras.callbacks.History at 0x143212898>"
            ]
          },
          "metadata": {
            "tags": []
          },
          "execution_count": 79
        }
      ]
    },
    {
      "cell_type": "code",
      "metadata": {
        "id": "EpLMLdiPVE7a",
        "outputId": "6e1869a8-8705-4cb1-9fc9-4f1f9177af1f"
      },
      "source": [
        "xp = np.linspace(-1,1)\n",
        "yp = ann.predict(xp)\n",
        "plt.plot(xp,yp,color='red',label='ANN')\n",
        "plt.plot(np.linspace(-1,1),np.linspace(-1,1)*res[0]+res[1],color='green',label='polyfit')\n",
        "plt.scatter(x,y,label='data')\n",
        "plt.legend()"
      ],
      "execution_count": null,
      "outputs": [
        {
          "output_type": "execute_result",
          "data": {
            "text/plain": [
              "<matplotlib.legend.Legend at 0x145866400>"
            ]
          },
          "metadata": {
            "tags": []
          },
          "execution_count": 81
        },
        {
          "output_type": "display_data",
          "data": {
            "image/png": "[encoded data removed]",
            "text/plain": [
              "<Figure size 432x288 with 1 Axes>"
            ]
          },
          "metadata": {
            "tags": []
          }
        }
      ]
    },
    {
      "cell_type": "markdown",
      "metadata": {
        "id": "s766SrdWVE7a"
      },
      "source": [
        "Which is not that far from the real underlying model..."
      ]
    },
    {
      "cell_type": "code",
      "metadata": {
        "id": "1U22nQ7AVE7a",
        "outputId": "b7662d58-1b94-41c2-ed69-fd556b9dd503"
      },
      "source": [
        "xp = np.linspace(-1,1)\n",
        "yp = ann.predict(xp)\n",
        "plt.plot(xp,yp,color='red',label='ANN')\n",
        "plt.plot(np.linspace(-1,1),np.linspace(-1,1)*res[0]+res[1],color='green',label='polyfit')\n",
        "plt.scatter(x,y,label='data')\n",
        "plt.plot(np.linspace(-1,1),0.1*np.linspace(-1,1)+np.sin(2.5*np.linspace(-1,1)),label='model',color='black')\n",
        "plt.legend()"
      ],
      "execution_count": null,
      "outputs": [
        {
          "output_type": "execute_result",
          "data": {
            "text/plain": [
              "<matplotlib.legend.Legend at 0x145a70fd0>"
            ]
          },
          "metadata": {
            "tags": []
          },
          "execution_count": 83
        },
        {
          "output_type": "display_data",
          "data": {
            "image/png": "[encoded data removed]",
            "text/plain": [
              "<Figure size 432x288 with 1 Axes>"
            ]
          },
          "metadata": {
            "tags": []
          }
        }
      ]
    },
    {
      "cell_type": "markdown",
      "metadata": {
        "id": "8TRDpzyIVE7a"
      },
      "source": [
        "Does it mean I can do any arbitrarily complex network and I still will be able to optimize over it? Yes! The answer is the backpropagation algorithm (Rumelhart et al., 1986a). "
      ]
    },
    {
      "cell_type": "markdown",
      "metadata": {
        "id": "FHO__tRbVE7a"
      },
      "source": [
        "So this is it? If I add a lot of different layers, am I doing Deep Learning? "
      ]
    },
    {
      "cell_type": "markdown",
      "metadata": {
        "id": "NuaqZc5pVE7a"
      },
      "source": [
        "Well, not yet ... deep learning implies also feautre learning, which we have not touched here. However, the framework is the same"
      ]
    },
    {
      "cell_type": "markdown",
      "metadata": {
        "id": "6o9gDwfOVE7a"
      },
      "source": [
        "# What about errors? Can we capture the uncertainties in the data?"
      ]
    },
    {
      "cell_type": "code",
      "metadata": {
        "collapsed": true,
        "id": "rK051ndzVE7b"
      },
      "source": [
        "\n",
        "ann = tfk.Sequential([\n",
        "tf.keras.layers.Flatten(input_shape=(1,1)),      \n",
        "tfkl.Dense(10, activation='sigmoid'),\n",
        "tfkl.Dense(tfpl.IndependentNormal.params_size(1),activation=None),\n",
        "tfpl.IndependentNormal(1, tfd.Normal.sample)])\n"
      ],
      "execution_count": null,
      "outputs": []
    },
    {
      "cell_type": "markdown",
      "metadata": {
        "id": "mxc2_S5JVE7b"
      },
      "source": [
        "Wow! What's that? We are transforming our model into a probabilsiitc model. Our model now predicts a Normal pdf at every point. We are going to learn the mean and the stanrdarde deviation of the pdf. That way, we let the model capture not only the mean but also the uncertainity."
      ]
    },
    {
      "cell_type": "markdown",
      "metadata": {
        "id": "R_5yIhLnVE7b"
      },
      "source": [
        "So now, let's compile this model. Since the output of the network is now a distribution, we are going to maximize the likelihood, or minimize the negative log likelihood."
      ]
    },
    {
      "cell_type": "code",
      "metadata": {
        "id": "yc8rhW5DVE7b",
        "outputId": "e8d6e816-1390-4b8a-b0c9-d30a0c564e82"
      },
      "source": [
        "negloglik = lambda y, rv_y: -rv_y.log_prob(y)\n",
        "ann.compile(optimizer=tf.optimizers.Adam(learning_rate=0.001),loss=negloglik)\n",
        "ann.fit(x,y,batch_size=1,epochs=400)"
      ],
      "execution_count": null,
      "outputs": [
        {
          "output_type": "stream",
          "text": [
            "Epoch 1/200\n",
            "100/100 [==============================] - 0s 770us/step - loss: -0.0163\n",
            "Epoch 2/200\n",
            "100/100 [==============================] - 0s 784us/step - loss: -0.0146\n",
            "Epoch 3/200\n",
            "100/100 [==============================] - 0s 908us/step - loss: -0.0203\n",
            "Epoch 4/200\n",
            "100/100 [==============================] - 0s 846us/step - loss: -0.0191\n",
            "Epoch 5/200\n",
            "100/100 [==============================] - 0s 833us/step - loss: -0.0209\n",
            "Epoch 6/200\n",
            "100/100 [==============================] - 0s 771us/step - loss: -0.0252\n",
            "Epoch 7/200\n",
            "100/100 [==============================] - 0s 822us/step - loss: -0.0249\n",
            "Epoch 8/200\n",
            "100/100 [==============================] - 0s 822us/step - loss: -0.0313\n",
            "Epoch 9/200\n",
            "100/100 [==============================] - 0s 914us/step - loss: -0.0323\n",
            "Epoch 10/200\n",
            "100/100 [==============================] - 0s 964us/step - loss: -0.0185\n",
            "Epoch 11/200\n",
            "100/100 [==============================] - 0s 960us/step - loss: -0.0252\n",
            "Epoch 12/200\n",
            "100/100 [==============================] - 0s 866us/step - loss: -0.0316\n",
            "Epoch 13/200\n",
            "100/100 [==============================] - 0s 866us/step - loss: -0.0308\n",
            "Epoch 14/200\n",
            "100/100 [==============================] - 0s 814us/step - loss: -0.0327\n",
            "Epoch 15/200\n",
            "100/100 [==============================] - 0s 919us/step - loss: -0.0357\n",
            "Epoch 16/200\n",
            "100/100 [==============================] - 0s 920us/step - loss: -0.0391\n",
            "Epoch 17/200\n",
            "100/100 [==============================] - 0s 888us/step - loss: -0.0392\n",
            "Epoch 18/200\n",
            "100/100 [==============================] - 0s 817us/step - loss: -0.0416\n",
            "Epoch 19/200\n",
            "100/100 [==============================] - 0s 851us/step - loss: -0.0462\n",
            "Epoch 20/200\n",
            "100/100 [==============================] - 0s 1ms/step - loss: -0.0337\n",
            "Epoch 21/200\n",
            "100/100 [==============================] - 0s 1ms/step - loss: -0.0440\n",
            "Epoch 22/200\n",
            "100/100 [==============================] - 0s 914us/step - loss: -0.0434\n",
            "Epoch 23/200\n",
            "100/100 [==============================] - 0s 902us/step - loss: -0.0467\n",
            "Epoch 24/200\n",
            "100/100 [==============================] - 0s 879us/step - loss: -0.0410\n",
            "Epoch 25/200\n",
            "100/100 [==============================] - 0s 803us/step - loss: -0.0467\n",
            "Epoch 26/200\n",
            "100/100 [==============================] - 0s 908us/step - loss: -0.0401\n",
            "Epoch 27/200\n",
            "100/100 [==============================] - 0s 949us/step - loss: -0.0456\n",
            "Epoch 28/200\n",
            "100/100 [==============================] - 0s 963us/step - loss: -0.0525\n",
            "Epoch 29/200\n",
            "100/100 [==============================] - 0s 876us/step - loss: -0.0472\n",
            "Epoch 30/200\n",
            "100/100 [==============================] - 0s 985us/step - loss: -0.0457\n",
            "Epoch 31/200\n",
            "100/100 [==============================] - 0s 989us/step - loss: -0.0499\n",
            "Epoch 32/200\n",
            "100/100 [==============================] - 0s 815us/step - loss: -0.0542\n",
            "Epoch 33/200\n",
            "100/100 [==============================] - 0s 891us/step - loss: -0.0523\n",
            "Epoch 34/200\n",
            "100/100 [==============================] - 0s 885us/step - loss: -0.0540\n",
            "Epoch 35/200\n",
            "100/100 [==============================] - 0s 858us/step - loss: -0.0431\n",
            "Epoch 36/200\n",
            "100/100 [==============================] - 0s 880us/step - loss: -0.0562\n",
            "Epoch 37/200\n",
            "100/100 [==============================] - 0s 882us/step - loss: -0.0575\n",
            "Epoch 38/200\n",
            "100/100 [==============================] - 0s 904us/step - loss: -0.0478\n",
            "Epoch 39/200\n",
            "100/100 [==============================] - 0s 949us/step - loss: -0.0601\n",
            "Epoch 40/200\n",
            "100/100 [==============================] - 0s 871us/step - loss: -0.0653\n",
            "Epoch 41/200\n",
            "100/100 [==============================] - 0s 788us/step - loss: -0.0498\n",
            "Epoch 42/200\n",
            "100/100 [==============================] - 0s 882us/step - loss: -0.0564\n",
            "Epoch 43/200\n",
            "100/100 [==============================] - 0s 949us/step - loss: -0.0525\n",
            "Epoch 44/200\n",
            "100/100 [==============================] - 0s 1ms/step - loss: -0.0605\n",
            "Epoch 45/200\n",
            "100/100 [==============================] - 0s 946us/step - loss: -0.0424\n",
            "Epoch 46/200\n",
            "100/100 [==============================] - 0s 937us/step - loss: -0.0554\n",
            "Epoch 47/200\n",
            "100/100 [==============================] - 0s 825us/step - loss: -0.0672\n",
            "Epoch 48/200\n",
            "100/100 [==============================] - 0s 861us/step - loss: -0.0659\n",
            "Epoch 49/200\n",
            "100/100 [==============================] - 0s 956us/step - loss: -0.0705\n",
            "Epoch 50/200\n",
            "100/100 [==============================] - 0s 838us/step - loss: -0.0696\n",
            "Epoch 51/200\n",
            "100/100 [==============================] - 0s 966us/step - loss: -0.0622\n",
            "Epoch 52/200\n",
            "100/100 [==============================] - 0s 908us/step - loss: -0.0684\n",
            "Epoch 53/200\n",
            "100/100 [==============================] - 0s 871us/step - loss: -0.0698\n",
            "Epoch 54/200\n",
            "100/100 [==============================] - 0s 980us/step - loss: -0.0690\n",
            "Epoch 55/200\n",
            "100/100 [==============================] - 0s 1ms/step - loss: -0.0698\n",
            "Epoch 56/200\n",
            "100/100 [==============================] - 0s 953us/step - loss: -0.0761\n",
            "Epoch 57/200\n",
            "100/100 [==============================] - 0s 713us/step - loss: -0.0655\n",
            "Epoch 58/200\n",
            "100/100 [==============================] - 0s 805us/step - loss: -0.0583\n",
            "Epoch 59/200\n",
            "100/100 [==============================] - 0s 740us/step - loss: -0.0709\n",
            "Epoch 60/200\n",
            "100/100 [==============================] - 0s 780us/step - loss: -0.0720\n",
            "Epoch 61/200\n",
            "100/100 [==============================] - 0s 862us/step - loss: -0.0701\n",
            "Epoch 62/200\n",
            "100/100 [==============================] - 0s 744us/step - loss: -0.0762\n",
            "Epoch 63/200\n",
            "100/100 [==============================] - 0s 806us/step - loss: -0.0692\n",
            "Epoch 64/200\n",
            "100/100 [==============================] - 0s 876us/step - loss: -0.0739\n",
            "Epoch 65/200\n",
            "100/100 [==============================] - 0s 812us/step - loss: -0.0763\n",
            "Epoch 66/200\n",
            "100/100 [==============================] - 0s 860us/step - loss: -0.0679\n",
            "Epoch 67/200\n",
            "100/100 [==============================] - 0s 788us/step - loss: -0.0669\n",
            "Epoch 68/200\n",
            "100/100 [==============================] - 0s 819us/step - loss: -0.0734\n",
            "Epoch 69/200\n",
            "100/100 [==============================] - 0s 1ms/step - loss: -0.0788\n",
            "Epoch 70/200\n",
            "100/100 [==============================] - 0s 945us/step - loss: -0.0783\n",
            "Epoch 71/200\n",
            "100/100 [==============================] - 0s 971us/step - loss: -0.0751\n",
            "Epoch 72/200\n",
            "100/100 [==============================] - 0s 1ms/step - loss: -0.0778\n",
            "Epoch 73/200\n",
            "100/100 [==============================] - 0s 791us/step - loss: -0.0774\n",
            "Epoch 74/200\n",
            "100/100 [==============================] - 0s 805us/step - loss: -0.0705\n",
            "Epoch 75/200\n",
            "100/100 [==============================] - 0s 819us/step - loss: -0.0780\n",
            "Epoch 76/200\n",
            "100/100 [==============================] - 0s 887us/step - loss: -0.0734\n",
            "Epoch 77/200\n",
            "100/100 [==============================] - 0s 791us/step - loss: -0.0716\n",
            "Epoch 78/200\n",
            "100/100 [==============================] - 0s 870us/step - loss: -0.0789\n",
            "Epoch 79/200\n",
            "100/100 [==============================] - 0s 838us/step - loss: -0.0694\n",
            "Epoch 80/200\n",
            "100/100 [==============================] - 0s 894us/step - loss: -0.0714\n",
            "Epoch 81/200\n",
            "100/100 [==============================] - 0s 841us/step - loss: -0.0799\n",
            "Epoch 82/200\n",
            "100/100 [==============================] - 0s 851us/step - loss: -0.0726\n",
            "Epoch 83/200\n",
            "100/100 [==============================] - 0s 864us/step - loss: -0.0791\n",
            "Epoch 84/200\n",
            "100/100 [==============================] - 0s 765us/step - loss: -0.0828\n",
            "Epoch 85/200\n",
            "100/100 [==============================] - 0s 778us/step - loss: -0.0844\n",
            "Epoch 86/200\n",
            "100/100 [==============================] - 0s 798us/step - loss: -0.0862\n",
            "Epoch 87/200\n",
            "100/100 [==============================] - 0s 843us/step - loss: -0.0839\n",
            "Epoch 88/200\n",
            "100/100 [==============================] - 0s 939us/step - loss: -0.0780\n",
            "Epoch 89/200\n",
            "100/100 [==============================] - 0s 841us/step - loss: -0.0761\n",
            "Epoch 90/200\n",
            "100/100 [==============================] - 0s 786us/step - loss: -0.0806\n",
            "Epoch 91/200\n",
            "100/100 [==============================] - 0s 810us/step - loss: -0.0861\n",
            "Epoch 92/200\n",
            "100/100 [==============================] - 0s 775us/step - loss: -0.0794\n",
            "Epoch 93/200\n",
            "100/100 [==============================] - 0s 779us/step - loss: -0.0852\n",
            "Epoch 94/200\n",
            "100/100 [==============================] - 0s 798us/step - loss: -0.0866\n",
            "Epoch 95/200\n",
            "100/100 [==============================] - 0s 1ms/step - loss: -0.0862\n",
            "Epoch 96/200\n",
            "100/100 [==============================] - 0s 1ms/step - loss: -0.0790\n",
            "Epoch 97/200\n",
            "100/100 [==============================] - 0s 852us/step - loss: -0.0812\n",
            "Epoch 98/200\n",
            "100/100 [==============================] - 0s 850us/step - loss: -0.0766\n",
            "Epoch 99/200\n",
            "100/100 [==============================] - 0s 810us/step - loss: -0.0810\n",
            "Epoch 100/200\n",
            "100/100 [==============================] - 0s 1ms/step - loss: -0.0860\n",
            "Epoch 101/200\n",
            "100/100 [==============================] - 0s 879us/step - loss: -0.0929\n",
            "Epoch 102/200\n",
            "100/100 [==============================] - 0s 976us/step - loss: -0.0862\n",
            "Epoch 103/200\n",
            "100/100 [==============================] - 0s 962us/step - loss: -0.0893\n",
            "Epoch 104/200\n",
            "100/100 [==============================] - 0s 859us/step - loss: -0.0851\n",
            "Epoch 105/200\n",
            "100/100 [==============================] - 0s 908us/step - loss: -0.0830\n",
            "Epoch 106/200\n",
            "100/100 [==============================] - 0s 810us/step - loss: -0.0871\n",
            "Epoch 107/200\n",
            "100/100 [==============================] - 0s 825us/step - loss: -0.0749\n",
            "Epoch 108/200\n",
            "100/100 [==============================] - 0s 791us/step - loss: -0.0892\n",
            "Epoch 109/200\n",
            "100/100 [==============================] - 0s 849us/step - loss: -0.0904\n",
            "Epoch 110/200\n",
            "100/100 [==============================] - 0s 873us/step - loss: -0.0852\n",
            "Epoch 111/200\n",
            "100/100 [==============================] - 0s 1ms/step - loss: -0.0847\n",
            "Epoch 112/200\n",
            "100/100 [==============================] - 0s 1ms/step - loss: -0.0866\n",
            "Epoch 113/200\n",
            "100/100 [==============================] - 0s 903us/step - loss: -0.0921\n",
            "Epoch 114/200\n",
            "100/100 [==============================] - 0s 782us/step - loss: -0.0947\n",
            "Epoch 115/200\n",
            "100/100 [==============================] - 0s 794us/step - loss: -0.0964\n",
            "Epoch 116/200\n",
            "100/100 [==============================] - 0s 824us/step - loss: -0.0846\n",
            "Epoch 117/200\n",
            "100/100 [==============================] - 0s 820us/step - loss: -0.0933\n",
            "Epoch 118/200\n",
            "100/100 [==============================] - 0s 911us/step - loss: -0.0845\n",
            "Epoch 119/200\n",
            "100/100 [==============================] - 0s 696us/step - loss: -0.0836\n",
            "Epoch 120/200\n",
            "100/100 [==============================] - 0s 884us/step - loss: -0.0941\n",
            "Epoch 121/200\n",
            "100/100 [==============================] - 0s 1ms/step - loss: -0.0884\n",
            "Epoch 122/200\n",
            "100/100 [==============================] - 0s 1000us/step - loss: -0.0953\n",
            "Epoch 123/200\n",
            "100/100 [==============================] - 0s 960us/step - loss: -0.0898\n",
            "Epoch 124/200\n",
            "100/100 [==============================] - 0s 988us/step - loss: -0.0847\n",
            "Epoch 125/200\n",
            "100/100 [==============================] - 0s 773us/step - loss: -0.0958\n",
            "Epoch 126/200\n",
            "100/100 [==============================] - 0s 851us/step - loss: -0.0945\n",
            "Epoch 127/200\n",
            "100/100 [==============================] - 0s 763us/step - loss: -0.0978\n",
            "Epoch 128/200\n",
            "100/100 [==============================] - 0s 995us/step - loss: -0.0833\n",
            "Epoch 129/200\n",
            "100/100 [==============================] - 0s 856us/step - loss: -0.0999\n",
            "Epoch 130/200\n",
            "100/100 [==============================] - 0s 809us/step - loss: -0.0988\n",
            "Epoch 131/200\n",
            "100/100 [==============================] - 0s 878us/step - loss: -0.0828\n",
            "Epoch 132/200\n",
            "100/100 [==============================] - 0s 816us/step - loss: -0.0928\n",
            "Epoch 133/200\n",
            "100/100 [==============================] - 0s 767us/step - loss: -0.0952\n",
            "Epoch 134/200\n",
            "100/100 [==============================] - 0s 999us/step - loss: -0.0828\n",
            "Epoch 135/200\n",
            "100/100 [==============================] - 0s 833us/step - loss: -0.0940\n",
            "Epoch 136/200\n",
            "100/100 [==============================] - 0s 848us/step - loss: -0.0907\n",
            "Epoch 137/200\n",
            "100/100 [==============================] - 0s 957us/step - loss: -0.0890\n",
            "Epoch 138/200\n",
            "100/100 [==============================] - 0s 782us/step - loss: -0.0937\n",
            "Epoch 139/200\n",
            "100/100 [==============================] - 0s 785us/step - loss: -0.0904\n",
            "Epoch 140/200\n",
            "100/100 [==============================] - 0s 770us/step - loss: -0.0902\n",
            "Epoch 141/200\n",
            "100/100 [==============================] - 0s 998us/step - loss: -0.0984\n",
            "Epoch 142/200\n",
            "100/100 [==============================] - 0s 830us/step - loss: -0.0981\n",
            "Epoch 143/200\n",
            "100/100 [==============================] - 0s 779us/step - loss: -0.0982\n",
            "Epoch 144/200\n",
            "100/100 [==============================] - 0s 838us/step - loss: -0.0986\n",
            "Epoch 145/200\n",
            "100/100 [==============================] - 0s 793us/step - loss: -0.0981\n",
            "Epoch 146/200\n",
            "100/100 [==============================] - 0s 1ms/step - loss: -0.0928\n",
            "Epoch 147/200\n",
            "100/100 [==============================] - 0s 2ms/step - loss: -0.0895\n",
            "Epoch 148/200\n",
            "100/100 [==============================] - 0s 860us/step - loss: -0.1012\n",
            "Epoch 149/200\n",
            "100/100 [==============================] - 0s 912us/step - loss: -0.1026\n",
            "Epoch 150/200\n",
            "100/100 [==============================] - 0s 757us/step - loss: -0.0863\n",
            "Epoch 151/200\n",
            "100/100 [==============================] - 0s 753us/step - loss: -0.0977\n",
            "Epoch 152/200\n",
            "100/100 [==============================] - 0s 742us/step - loss: -0.1005\n",
            "Epoch 153/200\n",
            "100/100 [==============================] - 0s 747us/step - loss: -0.1039\n",
            "Epoch 154/200\n",
            "100/100 [==============================] - 0s 817us/step - loss: -0.0981\n",
            "Epoch 155/200\n",
            "100/100 [==============================] - 0s 826us/step - loss: -0.0944\n",
            "Epoch 156/200\n",
            "100/100 [==============================] - 0s 826us/step - loss: -0.1002\n",
            "Epoch 157/200\n",
            "100/100 [==============================] - 0s 855us/step - loss: -0.0917\n",
            "Epoch 158/200\n",
            "100/100 [==============================] - 0s 733us/step - loss: -0.0995\n",
            "Epoch 159/200\n",
            "100/100 [==============================] - 0s 781us/step - loss: -0.0951\n",
            "Epoch 160/200\n",
            "100/100 [==============================] - 0s 915us/step - loss: -0.0965\n",
            "Epoch 161/200\n",
            "100/100 [==============================] - 0s 815us/step - loss: -0.0917\n",
            "Epoch 162/200\n",
            "100/100 [==============================] - 0s 739us/step - loss: -0.1021\n",
            "Epoch 163/200\n",
            "100/100 [==============================] - 0s 764us/step - loss: -0.0997\n",
            "Epoch 164/200\n",
            "100/100 [==============================] - 0s 761us/step - loss: -0.0993\n",
            "Epoch 165/200\n",
            "100/100 [==============================] - 0s 743us/step - loss: -0.1026\n",
            "Epoch 166/200\n",
            "100/100 [==============================] - 0s 829us/step - loss: -0.0925\n",
            "Epoch 167/200\n",
            "100/100 [==============================] - 0s 831us/step - loss: -0.1056\n",
            "Epoch 168/200\n",
            "100/100 [==============================] - 0s 802us/step - loss: -0.1038\n",
            "Epoch 169/200\n",
            "100/100 [==============================] - 0s 876us/step - loss: -0.1004\n",
            "Epoch 170/200\n",
            "100/100 [==============================] - 0s 837us/step - loss: -0.1053\n",
            "Epoch 171/200\n",
            "100/100 [==============================] - 0s 819us/step - loss: -0.1002\n",
            "Epoch 172/200\n",
            "100/100 [==============================] - 0s 814us/step - loss: -0.0983\n",
            "Epoch 173/200\n",
            "100/100 [==============================] - 0s 735us/step - loss: -0.1064\n",
            "Epoch 174/200\n",
            "100/100 [==============================] - 0s 903us/step - loss: -0.0958\n",
            "Epoch 175/200\n",
            "100/100 [==============================] - 0s 755us/step - loss: -0.1032\n",
            "Epoch 176/200\n",
            "100/100 [==============================] - 0s 781us/step - loss: -0.1019\n",
            "Epoch 177/200\n",
            "100/100 [==============================] - 0s 836us/step - loss: -0.0864\n",
            "Epoch 178/200\n",
            "100/100 [==============================] - 0s 838us/step - loss: -0.1034\n",
            "Epoch 179/200\n",
            "100/100 [==============================] - 0s 871us/step - loss: -0.1042\n",
            "Epoch 180/200\n",
            "100/100 [==============================] - 0s 782us/step - loss: -0.1043\n",
            "Epoch 181/200\n",
            "100/100 [==============================] - 0s 820us/step - loss: -0.0983\n",
            "Epoch 182/200\n",
            "100/100 [==============================] - 0s 740us/step - loss: -0.1041\n",
            "Epoch 183/200\n",
            "100/100 [==============================] - 0s 851us/step - loss: -0.1022\n",
            "Epoch 184/200\n",
            "100/100 [==============================] - 0s 818us/step - loss: -0.1029\n",
            "Epoch 185/200\n",
            "100/100 [==============================] - 0s 932us/step - loss: -0.0997\n",
            "Epoch 186/200\n",
            "100/100 [==============================] - 0s 960us/step - loss: -0.0985\n",
            "Epoch 187/200\n",
            "100/100 [==============================] - 0s 1ms/step - loss: -0.1075\n",
            "Epoch 188/200\n",
            "100/100 [==============================] - 0s 1ms/step - loss: -0.0884\n",
            "Epoch 189/200\n",
            "100/100 [==============================] - 0s 884us/step - loss: -0.1039\n",
            "Epoch 190/200\n",
            "100/100 [==============================] - 0s 810us/step - loss: -0.1046\n",
            "Epoch 191/200\n",
            "100/100 [==============================] - 0s 757us/step - loss: -0.1059\n",
            "Epoch 192/200\n",
            "100/100 [==============================] - 0s 782us/step - loss: -0.1023\n",
            "Epoch 193/200\n",
            "100/100 [==============================] - 0s 714us/step - loss: -0.1065\n",
            "Epoch 194/200\n",
            "100/100 [==============================] - 0s 850us/step - loss: -0.1066\n",
            "Epoch 195/200\n",
            "100/100 [==============================] - 0s 870us/step - loss: -0.1045\n",
            "Epoch 196/200\n",
            "100/100 [==============================] - 0s 847us/step - loss: -0.1076\n",
            "Epoch 197/200\n",
            "100/100 [==============================] - 0s 755us/step - loss: -0.1094\n",
            "Epoch 198/200\n",
            "100/100 [==============================] - 0s 758us/step - loss: -0.1080\n",
            "Epoch 199/200\n",
            "100/100 [==============================] - 0s 792us/step - loss: -0.1057\n",
            "Epoch 200/200\n",
            "100/100 [==============================] - 0s 795us/step - loss: -0.1127\n"
          ],
          "name": "stdout"
        },
        {
          "output_type": "execute_result",
          "data": {
            "text/plain": [
              "<tensorflow.python.keras.callbacks.History at 0x145cb8cc0>"
            ]
          },
          "metadata": {
            "tags": []
          },
          "execution_count": 89
        }
      ]
    },
    {
      "cell_type": "markdown",
      "metadata": {
        "id": "mSHyRxuMVE7c"
      },
      "source": [
        "# Let's plot the results ..."
      ]
    },
    {
      "cell_type": "code",
      "metadata": {
        "id": "ySfxLvIoVE7c",
        "outputId": "bda5f8da-ee22-4649-dc37-abbea1013b40"
      },
      "source": [
        "xp = np.linspace(-1,1)\n",
        "yp = ann(xp).mean()\n",
        "yp_std = ann(xp).stddev()\n",
        "plt.plot(xp,yp,color='red',label='ANN (mean)')\n",
        "plt.plot(xp,yp+yp_std,color='red',label='ANN (std)',ls='--')\n",
        "plt.plot(xp,yp-yp_std,color='red',label='ANN (std)',ls='--')\n",
        "plt.plot(np.linspace(-1,1),np.linspace(-1,1)*res[0]+res[1],color='green',label='polyfit')\n",
        "plt.scatter(x,y,label='data')\n",
        "plt.plot(np.linspace(-1,1),0.1*np.linspace(-1,1)+np.sin(2.5*np.linspace(-1,1)),label='model',color='black')\n",
        "plt.legend()\n"
      ],
      "execution_count": null,
      "outputs": [
        {
          "output_type": "stream",
          "text": [
            "WARNING:tensorflow:Model was constructed with shape (None, 1, 1) for input Tensor(\"flatten_25_input:0\", shape=(None, 1, 1), dtype=float32), but it was called on an input with incompatible shape (50,).\n",
            "WARNING:tensorflow:Model was constructed with shape (None, 1, 1) for input Tensor(\"flatten_25_input:0\", shape=(None, 1, 1), dtype=float32), but it was called on an input with incompatible shape (50,).\n"
          ],
          "name": "stdout"
        },
        {
          "output_type": "execute_result",
          "data": {
            "text/plain": [
              "<matplotlib.legend.Legend at 0x145f0e908>"
            ]
          },
          "metadata": {
            "tags": []
          },
          "execution_count": 92
        },
        {
          "output_type": "display_data",
          "data": {
            "image/png": "[encoded data removed]",
            "text/plain": [
              "<Figure size 432x288 with 1 Axes>"
            ]
          },
          "metadata": {
            "tags": []
          }
        }
      ]
    },
    {
      "cell_type": "markdown",
      "metadata": {
        "id": "EL4_l8scVE7c"
      },
      "source": [
        "The model captures now that it is more uncertain towrds the edges of the distribution..."
      ]
    }
  ]
}