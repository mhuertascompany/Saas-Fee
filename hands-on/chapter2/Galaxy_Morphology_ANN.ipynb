{
  "nbformat": 4,
  "nbformat_minor": 0,
  "metadata": {
    "colab": {
      "provenance": [],
      "include_colab_link": true
    },
    "kernelspec": {
      "name": "python3",
      "display_name": "Python 3"
    },
    "accelerator": "GPU"
  },
  "cells": [
    {
      "cell_type": "markdown",
      "metadata": {
        "id": "view-in-github",
        "colab_type": "text"
      },
      "source": [
        "<a href=\"https://colab.research.google.com/github/mhuertascompany/Saas-Fee/blob/main/hands-on/chapter2/Galaxy_Morphology_ANN.ipynb\" target=\"_parent\"><img src=\"https://colab.research.google.com/assets/colab-badge.svg\" alt=\"Open In Colab\"/></a>"
      ]
    },
    {
      "cell_type": "markdown",
      "metadata": {
        "id": "4jatIhJ9KJQV"
      },
      "source": [
        "#Galaxy Morphology with ANNs\n",
        "\n",
        "The goal of this tutorial is to illustrate a very basic supervised binary classification with different ML approaches. The goal is to setup a ML algorithm to determine the visual morphological type of nearby galaxies from the Sloan Digital Sky Survey. The first deep learning papers in Astronomy addressed this problem at low and high redshift (Dielemann+15, Huertas-Company+15).\n",
        "\n",
        "![](https://drive.google.com/uc?id=1TaiRB1wxui4AKnhuF4iH4LJkmrlb-D6d)\n",
        "\n",
        "This notebook illustrates how to train an Artifical Neural Network using catalog parameters (Stellar Mass and Color). The ML models are taken from scikitlearn.\n",
        "\n",
        "\n",
        "\n"
      ]
    },
    {
      "cell_type": "code",
      "metadata": {
        "id": "Hpv-XO8Sxgvi"
      },
      "source": [
        "import numpy as np\n",
        "from astropy.io import fits\n",
        "from astropy.table import Table\n",
        "import os\n",
        "from sklearn import preprocessing\n",
        "\n",
        "import tensorflow as tf\n",
        "tfkl = tf.keras.layers\n",
        "\n",
        "\n",
        "from sklearn.ensemble import RandomForestClassifier\n",
        "from sklearn.model_selection import train_test_split\n",
        "\n",
        "from sklearn.metrics import roc_curve, precision_recall_curve, accuracy_score,auc\n",
        "\n",
        "\n",
        "%pylab inline"
      ],
      "execution_count": null,
      "outputs": []
    },
    {
      "cell_type": "markdown",
      "metadata": {
        "id": "u1PqZCKlVSMJ"
      },
      "source": [
        "## Mount Drive\n",
        "\n",
        "Before mounting the drive click on [this folder](https://drive.google.com/drive/folders/1PcftgBzBySo1Ync-Wdsp9arTCJ_MfEPE?usp=sharing) and add it to your google drive by following these steps:\n",
        "\n",
        "*   Go to your drive\n",
        "*   Find shared folder (\"Shared with me\" link)\n",
        "*   Right click it\n",
        "*   Click Add to My Drive\n",
        "\n"
      ]
    },
    {
      "cell_type": "code",
      "metadata": {
        "id": "8Io82GXlCNdF"
      },
      "source": [
        "from google.colab import drive\n",
        "drive.mount('/content/drive')"
      ],
      "execution_count": null,
      "outputs": []
    },
    {
      "cell_type": "markdown",
      "metadata": {
        "id": "DqPFZXvf1FNs"
      },
      "source": [
        "---\n",
        "#### The notenook is setup to illustrate 2 different classifications:\n",
        "\n",
        "\n",
        "#### 1.   Early vs. Late: This is an easy example in which we only try to separate between early-type and late-type galaxies.\n",
        "\n",
        "#### 2.   E vs. S0: The second example is more challenging. We try to separate ellipticals from S0s.\n",
        "\n",
        "#### By default case 1 is turn on. In order to switch to case 2 set the variable CLASS_EARLY_LATE to False.\n",
        "\n",
        "---\n",
        "\n",
        "\n",
        "\n"
      ]
    },
    {
      "cell_type": "code",
      "metadata": {
        "id": "lM9KbCzH21D_"
      },
      "source": [
        "CLASS_EARLY_LATE=True"
      ],
      "execution_count": null,
      "outputs": []
    },
    {
      "cell_type": "markdown",
      "metadata": {
        "id": "_KcKMJO64TMq"
      },
      "source": [
        "### Load data and prepare data"
      ]
    },
    {
      "cell_type": "markdown",
      "metadata": {
        "id": "AqjGhUSr3uz2"
      },
      "source": [
        "For the classical approaches, the input are catalog parameters (color, mass for illustration) which correlate with galaxy morphology. It is well known that early type galaxies are redder and more massive than late type galaxies. So we are going to exploit these correlation to estimate the galaxy morphology."
      ]
    },
    {
      "cell_type": "code",
      "metadata": {
        "id": "_dwLGPyqey_z"
      },
      "source": [
        "pathinData=\"/content/drive/MyDrive/ED127_2023/morphology\"\n",
        "\n",
        "if CLASS_EARLY_LATE:\n",
        "  # donwload feature vector and labels\n",
        "  X_ML = np.load(pathinData+'/feature_E_S.npy')\n",
        "  #morphological class\n",
        "  Y_ML = np.load(pathinData+'/label_E_S.npy')\n",
        "  #we also load images (for visualization purposes - not used for training)\n",
        "  I_ML=np.load(pathinData+'/images_ML.npy')\n",
        "\n",
        "\n",
        "\n",
        "else:\n",
        "  # donwload feature vector and labels\n",
        "  X_ML = np.load(pathinData+'/feature_E_S0.npy')\n",
        "  #morphological class\n",
        "  Y_ML = np.load(pathinData+'/label_E_S0.npy')\n",
        "  #we also load images (for visualization purposes - not used for training)\n",
        "  I_ML=np.load(pathinData+'/images_ML_E_S0.npy')\n",
        "\n",
        "#split training and test datasets\n",
        "X_ML_train = X_ML[0:len(X_ML)//5*4,:]\n",
        "X_ML_test = X_ML[len(X_ML)//5*4:,:]\n",
        "Y_ML_train = Y_ML[0:len(Y_ML)//5*4]\n",
        "Y_ML_test = Y_ML[len(Y_ML)//5*4:]\n",
        "I_ML_train = I_ML[0:len(I_ML)//5*4,:,:,:]\n",
        "I_ML_test = I_ML[len(Y_ML)//5*4:,:,:,:]\n"
      ],
      "execution_count": null,
      "outputs": []
    },
    {
      "cell_type": "markdown",
      "metadata": {
        "id": "tIuWoRGi4Z9Q"
      },
      "source": [
        "### Visualize some images for illustration"
      ]
    },
    {
      "cell_type": "code",
      "metadata": {
        "id": "dmzrmSJtmkji"
      },
      "source": [
        "randomized_inds_train = np.random.permutation(len(I_ML))\n",
        "\n",
        "fig = plt.figure()\n",
        "for i,j in zip(randomized_inds_train[0:4],range(4)):\n",
        "  ax = fig.add_subplot(2, 2, j+1)\n",
        "  im = ax.imshow(I_ML[i,:,:].astype(int))\n",
        "  plt.title('$Morph$='+str(Y_ML[i]))\n",
        "  fig.tight_layout()\n",
        "  fig.colorbar(im)\n"
      ],
      "execution_count": null,
      "outputs": []
    },
    {
      "cell_type": "markdown",
      "metadata": {
        "id": "7oSvt6VH4lrv"
      },
      "source": [
        "### Visualize the feature space used for classification (Stellar Mass / Color)\n",
        "\n",
        "For the classical ML classification we are going to use 2 catalog parameters only (stellar mass and color). This means that all the information contained in the images is reduced to 2 parameters (features) which is what the algorithms see and will use for classification. The following cell plots these parameters for both classes. The two different classes are expected to have different distributions in the feature space so that the ML algorithm can partition the space."
      ]
    },
    {
      "cell_type": "code",
      "metadata": {
        "id": "Q8cJQQxrgk0l"
      },
      "source": [
        "xlabel(\"$Log(M_*)$\", fontsize=20)\n",
        "ylabel(\"g-r\", fontsize=20)\n",
        "xlim(8,12)\n",
        "ylim(0,1.2)\n",
        "scatter(X_ML[Y_ML==1,1],X_ML[Y_ML==1,0],color='blue',s=1,label='Morph1')\n",
        "scatter(X_ML[Y_ML==0,1],X_ML[Y_ML==0,0],color='red',s=1,label='Morph0')\n",
        "legend(fontsize=14)"
      ],
      "execution_count": null,
      "outputs": []
    },
    {
      "cell_type": "markdown",
      "metadata": {
        "id": "Hq_MpTYr5BOJ"
      },
      "source": [
        "### Train ANN\n",
        "The second \"classical\" algorithm we test is an Artificial Neural Network which again takes as input 2 parameters. We use here an architecture with only one hdden layer. This can also be changed to explore the effects."
      ]
    },
    {
      "cell_type": "markdown",
      "metadata": {
        "id": "dXZqvFO4ghET"
      },
      "source": [
        "The following cell trains the ANN. If the previous cell worked, you should see some plots appearing in the window above showing the learning history."
      ]
    },
    {
      "cell_type": "code",
      "metadata": {
        "id": "E40FWhaVif6U"
      },
      "source": [
        "pathout='morphology/models/ann' #output folder to store the results\n",
        "model_name = '/ann1'  #name of the final model which is saved in pathout\n",
        "\n",
        "\n",
        "# this is to delete ALL previous runs. Only set to True if you want to remove them.\n",
        "RESET=True\n",
        "if RESET:\n",
        "  print(\"deleting\")\n",
        "  os.system(\"rm -r \"+pathout)\n",
        "\n",
        "\n",
        "# some hyperparamters to be changed\n",
        "nb_epoch=50\n",
        "batch_size=50\n",
        "\n",
        "\n",
        "\n",
        "# definition of neural network.\n",
        "# COMPLETE HERE YOUR MODEL. START SIMPLE AND ADD MORE HIDDEN LAYERS. EXPLORE THE RESUTLS\n",
        "#You can add/remove layers and see the performance. Also change the optimizers.\n",
        "# Try to make purely linear classifiers and then add non linearities.\n",
        "\n",
        "\n",
        "ann = tf.keras.Sequential([\n",
        "  tfkl.InputLayer([2,1]), ## this is your input layer. Do not change. Specifies dimension.\n",
        "\n",
        "  ########\n",
        "## ADD YOUR LAYERS HERE.\n",
        "#########\n",
        "\n",
        "  tfkl.Dense(1, activation='sigmoid') ## this is your ouptut layer (1 value). Do not change.\n",
        "])\n",
        "\n",
        "\n",
        "\n",
        "\n",
        "# compilation of model. loss defintion. we are using binary crossentropy.\n",
        "ann.compile(loss='binary_crossentropy',optimizer='adam',metrics=['accuracy'])\n",
        "\n",
        "# train the model. YOU CAN CHANGE BATCH SIZE AND NB_EPOCHS TO EXPLORE THE EFFECTS\n",
        "Xexp=np.expand_dims(X_ML_train,2)\n",
        "\n",
        "\n",
        "##you can run several models\n",
        "history=ann.fit(Xexp,Y_ML_train,epochs=nb_epoch,batch_size=50)\n",
        "#history_2 = ...\n",
        "\n",
        "# save model(s) just in case it is needed\n",
        "ann.save(pathout+model_name+\".hd5\")"
      ],
      "execution_count": null,
      "outputs": []
    },
    {
      "cell_type": "markdown",
      "metadata": {
        "id": "Hfp1j4q3CTP0"
      },
      "source": [
        "Plots the learning history"
      ]
    },
    {
      "cell_type": "code",
      "metadata": {
        "id": "TYKboIjNBPz7"
      },
      "source": [
        "xlabel(\"Epochs\", fontsize=20)\n",
        "ylabel(\"Loss\", fontsize=20)\n",
        "xlim(0,50)\n",
        "ylim(0,1.2)\n",
        "\n",
        "\n",
        "plot(history.history['loss'],linewidth=3,color='black')\n"
      ],
      "execution_count": null,
      "outputs": []
    },
    {
      "cell_type": "markdown",
      "metadata": {
        "id": "E6jXNmKDGcyo"
      },
      "source": [
        "## Predictions and comparisons of different approaches\n",
        "The following cells use the trained model to predict the morphological class of the test dataset and compare the performance of the different algorithms."
      ]
    },
    {
      "cell_type": "code",
      "metadata": {
        "id": "MFpihOh0FuN2"
      },
      "source": [
        "print(\"Predicting...\")\n",
        "print(\"====================\")\n",
        "\n",
        "# set to true if you want to load a specific model. otherwise it will just use\n",
        "# the last model trained\n",
        "LOAD_MODEL=False\n",
        "if LOAD_MODEL:\n",
        "  ann = tf.keras.models.load_model(pathout+model_name+\".hd5\")\n",
        "\n",
        "\n",
        "## This line uses the trained model to predict\n",
        "Y_pred_ANN=ann.predict(np.expand_dims(X_ML_test,2))\n",
        "\n"
      ],
      "execution_count": null,
      "outputs": []
    },
    {
      "cell_type": "markdown",
      "source": [
        "Plot the decision boundaries for the ANN model as done in the RF notebook. Compare."
      ],
      "metadata": {
        "id": "Bk65gNmEk_5B"
      }
    },
    {
      "cell_type": "markdown",
      "metadata": {
        "id": "mXKSAhBqSX2g"
      },
      "source": [
        "We now compute the global accuracy as well as ROC and P-R curves. Use the code fromt yesterday's notebook."
      ]
    },
    {
      "cell_type": "code",
      "metadata": {
        "id": "svvKwV-AGpYB"
      },
      "source": [
        "#global accuracy\n",
        "\n",
        "\n",
        "Y_pred_ANN_class=Y_pred_ANN*0\n",
        "Y_pred_ANN_class[Y_pred_ANN>0.5]=1\n",
        "\n",
        "\n",
        "print(\"Global Accuracy ANN:\", accuracy_score(Y_ML_test, Y_pred_ANN_class))\n",
        "\n",
        "\n",
        "## USING THE NOTEBOOK ON RANDOM FORESTS, COMPLETE THE LINES BELOW TO COMPUTE THE\n",
        "## ROC AND P-R CURVES FOR THE ANN\n",
        "\n",
        "##############\n",
        "##############\n",
        "\n",
        "\n",
        "# ROC curve (False positive rate vs. True positive rate)\n",
        "\n",
        "## ADD CODE FOR ROC CURVE HERE\n",
        "\n",
        "# Precision Recall curve (False positive rate vs. True positive rate)\n",
        "\n",
        "## ADD CODE FOR P-R CURVE HERE\n",
        "\n",
        "\n",
        "#####\n",
        "## FINALLY: YOU CAN ALSO COPY THE CODE ON RANDOM FOREST INTO THIS NOTEBOOK AND\n",
        "## COMPARE BOTH ROC AND P-R CURVES - COMMENT"
      ],
      "execution_count": null,
      "outputs": []
    },
    {
      "cell_type": "markdown",
      "metadata": {
        "id": "l8B5LNsyTuPY"
      },
      "source": [
        "The follwing cells visualize some random examples of bad classifications in order to explore what the network has understood. If you run multiple times the examples will change.\n",
        "\n",
        "RUN FIRST WITH VERY SIMPLE NN MODEL AND THEN INCREASE THE NUMBER OF HIDDEN LAYERS AND OBSERVE THE BEHAVIOUR OF MISS-CLASSIFICATIONS. COMMENT."
      ]
    },
    {
      "cell_type": "markdown",
      "metadata": {
        "id": "ZfmJFJt1UN62"
      },
      "source": [
        "### Bad classifications of ANNs"
      ]
    },
    {
      "cell_type": "code",
      "metadata": {
        "id": "lrSgl9zbwGb6"
      },
      "source": [
        "# objects classifed as early-types by the ANN but visually classifed as late-types\n",
        "bad = np.where((Y_pred_ANN[:,0]<0.5)&(Y_ML_test==1))\n",
        "randomized_inds_train = np.random.permutation(bad)\n",
        "\n",
        "fig = plt.figure()\n",
        "fig.suptitle(\"Galaxies visually classifed as Class1 but classified as Class0\",fontsize=10)\n",
        "for i,j in zip(randomized_inds_train[0][0:4],range(4)):\n",
        "  ax = fig.add_subplot(2, 2, j+1)\n",
        "  im = ax.imshow(I_ML_test[i,:,:])\n",
        "  plt.title('$Morph$='+str(Y_ML_test[i]))\n",
        "  fig.tight_layout()\n",
        "  fig.colorbar(im)\n",
        "\n",
        "\n",
        "\n",
        "# objects classifed as late-types by the ANN but visually classifed as early-types\n",
        "bad2 = np.where((Y_pred_ANN[:,0]>0.5)&(Y_ML_test==0))\n",
        "randomized_inds_train = np.random.permutation(bad2)\n",
        "\n",
        "fig = plt.figure()\n",
        "fig.suptitle(\"Galaxies visually classifed as Class0 but classified as Class1\",fontsize=10)\n",
        "for i,j in zip(randomized_inds_train[0][0:4],range(4)):\n",
        "  ax = fig.add_subplot(2, 2, j+1)\n",
        "  im = ax.imshow(I_ML_test[i,:,:])\n",
        "  plt.title('$Morph$='+str(Y_ML_test[i]))\n",
        "  fig.tight_layout()\n",
        "  fig.colorbar(im)\n",
        "\n",
        "#visualize the feature space\n",
        "fig = plt.figure()\n",
        "xlabel(\"$Log(M_*)$\", fontsize=20)\n",
        "ylabel(\"g-r\", fontsize=20)\n",
        "xlim(8,12)\n",
        "ylim(0,1.2)\n",
        "scatter(X_ML_test[bad[0],1],X_ML_test[bad[0],0],color='pink',s=25,label=\"S class. as E\")\n",
        "scatter(X_ML_test[bad2[0],1],X_ML_test[bad2[0],0],color='orange',s=25,label='E class. as S')\n",
        "legend(fontsize=14)"
      ],
      "execution_count": null,
      "outputs": []
    },
    {
      "cell_type": "markdown",
      "metadata": {
        "id": "N_SHGP7ARup7"
      },
      "source": [
        "## ANN Classifier E/S0"
      ]
    },
    {
      "cell_type": "markdown",
      "metadata": {
        "id": "eOM2VEBXR0rK"
      },
      "source": [
        "Repeat the steps above for the E/S0 classification. Plot in the same figure the ROC and P-R curves for the two cases. Comment the results."
      ]
    },
    {
      "cell_type": "code",
      "metadata": {
        "id": "uD87WjLLR4Dw"
      },
      "source": [
        "CLASS_EARLY_LATE=False"
      ],
      "execution_count": null,
      "outputs": []
    },
    {
      "cell_type": "markdown",
      "metadata": {
        "id": "XFhcRq2gR8Sl"
      },
      "source": [
        "## Increasing the number of parameters"
      ]
    },
    {
      "cell_type": "markdown",
      "metadata": {
        "id": "NdxgfeK0R9aM"
      },
      "source": [
        "In the previous sections we have used only 2 parameters to perform the classification. We will try now to use more dimensions. The following cell loads a catalog with 5 parameters: stellar mass, color, Sersic Index, Velocity Dispersion and axis ratio. Repeat the steps above with different sets of parameters, compare and comment. Compare with RFs. Are there any differences? Comment. YOU MIGHT NEED TO RESET THE RUNTIME FOR THIS TO WORK. GO TO MENU RUNTIME, SELECT \"FACTORY RESET RUNTIME\" AND RUN AGAIN THIS CELL WITHOUT LOADING THE FIRST DATASET."
      ]
    },
    {
      "cell_type": "code",
      "metadata": {
        "id": "Wc5kLKnKSGkl"
      },
      "source": [
        "pathinData=\"/content/drive/My Drive/ED127_2023/morphology\"\n",
        "\n",
        "if CLASS_EARLY_LATE:\n",
        "  # donwload feature vector and labels\n",
        "  X_ML = np.load(pathinData+'/feature_E_S_large.npy')\n",
        "  #morphological class\n",
        "  Y_ML = np.load(pathinData+'/label_E_S_large.npy')\n",
        "  #we also load images (for visualization purposes - not used for training)\n",
        "  I_ML=np.load(pathinData+'/images_ML_E_S_large.npy')\n",
        "\n",
        "\n",
        "\n",
        "else:\n",
        "  # donwload feature vector and labels\n",
        "  X_ML = np.load(pathinData+'/feature_E_S0_large.npy')\n",
        "  #morphological class\n",
        "  Y_ML = np.load(pathinData+'/label_E_S0_large.npy')\n",
        "  #we also load images (for visualization purposes - not used for training)\n",
        "  I_ML=np.load(pathinData+'/images_ML_E_S0_large.npy')\n",
        "\n",
        "#split training and test datasets\n",
        "X_ML_train = X_ML[0:len(X_ML)//5*4,:]\n",
        "X_ML_test = X_ML[len(X_ML)//5*4:,:]\n",
        "Y_ML_train = Y_ML[0:len(Y_ML)//5*4]\n",
        "Y_ML_test = Y_ML[len(Y_ML)//5*4:]\n",
        "I_ML_train = I_ML[0:len(I_ML)//5*4,:,:,:]\n",
        "I_ML_test = I_ML[len(Y_ML)//5*4:,:,:,:]"
      ],
      "execution_count": null,
      "outputs": []
    }
  ]
}